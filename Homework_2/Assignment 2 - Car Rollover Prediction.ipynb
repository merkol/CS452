{
 "cells": [
  {
   "cell_type": "markdown",
   "metadata": {},
   "source": [
    "# CS452/CS552 Assignment 2: Car Rollover Prediction\n",
    "\n",
    "**Release Date: 23.11.2021** <br>\n",
    "**Submission Deadline: 12.12.2021 23.55**"
   ]
  },
  {
   "cell_type": "code",
   "execution_count": 1,
   "metadata": {},
   "outputs": [],
   "source": [
    "# Author: Mert Erkol\n",
    "# Department: Computer Science\n",
    "# Degree: BSc. "
   ]
  },
  {
   "cell_type": "code",
   "execution_count": 1,
   "metadata": {},
   "outputs": [],
   "source": [
    "import pandas as pd\n",
    "import numpy as np\n",
    "\n",
    "import seaborn as sns\n",
    "import matplotlib.pyplot as plt\n",
    "\n",
    "import requests as rq\n",
    "import io\n",
    "import random\n",
    "\n",
    "from sklearn.model_selection import train_test_split\n",
    "from sklearn.metrics import classification_report, accuracy_score, recall_score, precision_score, f1_score, fbeta_score\n",
    "from sklearn.preprocessing import OneHotEncoder, StandardScaler, MinMaxScaler, RobustScaler\n",
    "from sklearn.inspection import permutation_importance\n",
    "from sklearn.feature_selection import SelectKBest\n",
    "from sklearn.feature_selection import chi2\n",
    "\n",
    "from sklearn.naive_bayes import GaussianNB, CategoricalNB, ComplementNB\n",
    "from sklearn.linear_model import LogisticRegression\n",
    "from sklearn.svm import SVC\n",
    "from sklearn.ensemble import RandomForestClassifier\n",
    "\n",
    "pd.set_option('display.max_columns', 150)\n",
    "pd.set_option('display.max_rows', 10000)\n",
    "random.seed(42) # DO NOT CHANGE\n",
    "np.random.seed(42) # DO NOT CHANGE"
   ]
  },
  {
   "cell_type": "markdown",
   "metadata": {},
   "source": [
    "# Part 1: Data Loading and Cleaning\n",
    "> Get FARS datasets through the API provided by NHTSA using requests library.<br>\n",
    "\n",
    "Two types of datasets will be used in the project:<br>\n",
    "*person* dataset provides the information of persons involved in a crash.<br>\n",
    "*vindecode* dataset the information of vehicles involved in a crash thanks to decoded Vehicle Identification Number (VIN)."
   ]
  },
  {
   "cell_type": "code",
   "execution_count": 3,
   "metadata": {},
   "outputs": [],
   "source": [
    "api = \"https://crashviewer.nhtsa.dot.gov/CrashAPI/FARSData/GetFARSData\"\n",
    "case_years = np.arange(2014, 2020, dtype=int) # DO NOT CHANGE"
   ]
  },
  {
   "cell_type": "code",
   "execution_count": 4,
   "metadata": {},
   "outputs": [],
   "source": [
    "def get_persons_data(year):\n",
    "    response = rq.get(url = api, params = {'dataset':'person', 'caseYear':year, 'format':'csv'})\n",
    "\n",
    "    if response.ok:\n",
    "        csv_data = response.content\n",
    "        persons = pd.read_csv(io.StringIO(csv_data.decode('utf-8')))\n",
    "        return persons\n",
    "    \n",
    "    print(\"Failed to get the data\")\n",
    "    print(response.status)\n",
    "    \n",
    "    return None\n",
    "\n",
    "def get_vehicles_data(year):\n",
    "    response = rq.get(url = api, params = {'dataset':'vindecode', 'caseYear':year, 'format':'csv'})\n",
    "\n",
    "    if response.ok:\n",
    "        csv_data = response.content\n",
    "        vehicles = pd.read_csv(io.StringIO(csv_data.decode('utf-8')))\n",
    "        return vehicles\n",
    "    \n",
    "    print(\"Failed to get the data\")\n",
    "    print(response.status)\n",
    "    \n",
    "    return None"
   ]
  },
  {
   "cell_type": "code",
   "execution_count": 5,
   "metadata": {
    "scrolled": true
   },
   "outputs": [
    {
     "name": "stderr",
     "output_type": "stream",
     "text": [
      "<ipython-input-5-755c6779d79b>:1: DtypeWarning: Columns (17) have mixed types.Specify dtype option on import or set low_memory=False.\n",
      "  persons = get_persons_data(2014)\n",
      "<ipython-input-5-755c6779d79b>:4: DtypeWarning: Columns (17) have mixed types.Specify dtype option on import or set low_memory=False.\n",
      "  persons = pd.concat([persons,get_persons_data(i)])\n",
      "<ipython-input-5-755c6779d79b>:4: DtypeWarning: Columns (17,32) have mixed types.Specify dtype option on import or set low_memory=False.\n",
      "  persons = pd.concat([persons,get_persons_data(i)])\n"
     ]
    }
   ],
   "source": [
    "persons = get_persons_data(2014)\n",
    "np.delete(case_years,0)\n",
    "for i in case_years:\n",
    "    persons = pd.concat([persons,get_persons_data(i)])"
   ]
  },
  {
   "cell_type": "code",
   "execution_count": 6,
   "metadata": {},
   "outputs": [
    {
     "name": "stderr",
     "output_type": "stream",
     "text": [
      "<ipython-input-6-245fb5fb7dbe>:1: DtypeWarning: Columns (25,51,52,96) have mixed types.Specify dtype option on import or set low_memory=False.\n",
      "  vehicles = get_vehicles_data(2014)\n",
      "<ipython-input-6-245fb5fb7dbe>:3: DtypeWarning: Columns (25,51,52,96) have mixed types.Specify dtype option on import or set low_memory=False.\n",
      "  vehicles = pd.concat([vehicles,get_vehicles_data(i)])\n",
      "<ipython-input-6-245fb5fb7dbe>:3: DtypeWarning: Columns (25) have mixed types.Specify dtype option on import or set low_memory=False.\n",
      "  vehicles = pd.concat([vehicles,get_vehicles_data(i)])\n",
      "<ipython-input-6-245fb5fb7dbe>:3: DtypeWarning: Columns (44) have mixed types.Specify dtype option on import or set low_memory=False.\n",
      "  vehicles = pd.concat([vehicles,get_vehicles_data(i)])\n",
      "<ipython-input-6-245fb5fb7dbe>:3: DtypeWarning: Columns (33) have mixed types.Specify dtype option on import or set low_memory=False.\n",
      "  vehicles = pd.concat([vehicles,get_vehicles_data(i)])\n"
     ]
    }
   ],
   "source": [
    "vehicles = get_vehicles_data(2014)\n",
    "for i in case_years:\n",
    "     vehicles = pd.concat([vehicles,get_vehicles_data(i)])    "
   ]
  },
  {
   "cell_type": "markdown",
   "metadata": {},
   "source": [
    "1.1) Use the above methods to get vehicles and persons datasets from 2014 to 2019."
   ]
  },
  {
   "cell_type": "markdown",
   "metadata": {},
   "source": [
    "1.2) Determine the useless columns to drop from the dataframes.\n",
    "\n",
    "**Hint 1**: An encoded and a decoded (actual-valued) column exist for most of the features. Drop the encoded columns.<br>\n",
    "**Hint 2**: Some features have mostly null values or a single value. <br>\n",
    "**Hint 3**: Some features provides information that can be obtained after the accident. <br>\n",
    "You can refer to [FARS User’s Manual](https://crashstats.nhtsa.dot.gov/Api/Public/ViewPublication/813023) if needed."
   ]
  },
  {
   "cell_type": "code",
   "execution_count": 7,
   "metadata": {
    "scrolled": true
   },
   "outputs": [
    {
     "data": {
      "text/plain": [
       "Index(['caseyear', 'state', 'statename', 'st_case', 've_forms', 'veh_no',\n",
       "       'per_no', 'str_veh', 'str_vehname', 'county',\n",
       "       ...\n",
       "       'hispanic', 'hispanicname', 'race', 'racename', 'location',\n",
       "       'locationname', 'func_sys', 'func_sysname', 'rur_urb', 'rur_urbname'],\n",
       "      dtype='object', length=131)"
      ]
     },
     "execution_count": 7,
     "metadata": {},
     "output_type": "execute_result"
    }
   ],
   "source": [
    "persons.columns[0::]"
   ]
  },
  {
   "cell_type": "code",
   "execution_count": 8,
   "metadata": {},
   "outputs": [
    {
     "data": {
      "text/plain": [
       "caseyear             0\n",
       "state                0\n",
       "statename            0\n",
       "st_case              0\n",
       "ve_forms             0\n",
       "                 ...  \n",
       "locationname         0\n",
       "func_sys        148696\n",
       "func_sysname    148696\n",
       "rur_urb         148696\n",
       "rur_urbname     148696\n",
       "Length: 131, dtype: int64"
      ]
     },
     "execution_count": 8,
     "metadata": {},
     "output_type": "execute_result"
    }
   ],
   "source": [
    "persons.isna().sum()"
   ]
  },
  {
   "cell_type": "code",
   "execution_count": 10,
   "metadata": {},
   "outputs": [],
   "source": [
    "# Be aware that this is a mutable method.\n",
    "def drop_useless_columns(vehicles, persons):\n",
    "\n",
    "    vec_cols_to_drop = [\n",
    "        'state', 'ncicmake', 'vehtype', 'vintrim_t', 'vintrim1_t',\n",
    "        'vintrim1_t', 'vintrim2_t', 'vintrim3_t', 'vintrim4_t', 'bodystyl',\n",
    "        'mfg', 'cycles', 'fuel', 'fuelinj', 'carbtype', 'carbbrls', 'gvwrange',\n",
    "        'gvwrange_t', 'tiredesc_f', 'tiredesc_r', 'rearsize', 'tonrating',\n",
    "        'drivetyp', 'salectry', 'salectry_t', 'abs', 'security', 'security_t',\n",
    "        'drl', 'rstrnt', 'rstrnt_t', 'tkcab', 'tkcab_t', 'tkaxlef',\n",
    "        'tkaxlef_t', 'tkaxler', 'tkaxler_t', 'tkbrak', 'engmfg', 'tkduty',\n",
    "        'tkbedl', 'segmnt', 'plant', 'plntcity', 'plntctry', 'plntstat',\n",
    "        'plntstat_t', 'origin', 'enghead', 'incomplt', 'battyp', 'battyp_t',\n",
    "        'batkwrtg', 'batvolt', 'supchrgr', 'supchrgr_t', 'turbo', 'turbo_t',\n",
    "        'engvvt', 'mcyusage', 'mcyusage_t','tkbrak_t','tkduty_t','tkbedl_t','engmodel','displcc','psi_f','psi_r'\n",
    "    ]\n",
    "    per_cols_to_drop = [\n",
    "        'state', 'str_veh', 'county', 'countyname', 'day', 'month',\n",
    "        'monthname', 'hour', 'hourname', 'minute', 'minutename', 'road_fnc',\n",
    "        'road_fncname', 'harm_ev', 'harm_evname', 'man_coll', 'man_collname',\n",
    "        'sch_bus', 'sch_busname', 'make', 'mak_mod', 'body_typ', 'mod_year',\n",
    "        'tow_veh', 'tow_vehname', 'spec_use', 'spec_usename', 'emer_use',\n",
    "        'emer_usename', 'rollover', 'impact1', 'impact1name', 'fire_exp',\n",
    "        'fire_expname', 'age', 'sex', 'per_typ', 'inj_sev', 'inj_sevname',\n",
    "        'seat_pos', 'seat_posname', 'rest_use', 'rest_usename', 'rest_mis',\n",
    "        'rest_misname', 'air_bag', 'air_bagname', 'ejection', 'ejectionname',\n",
    "        'ej_path', 'ej_pathname', 'extricat', 'extricatname', 'drinking',\n",
    "        'drinkingname', 'alc_det', 'alc_status', 'alc_statusname', 'atst_typ',\n",
    "        'atst_typname', 'alc_res', 'alc_resname', 'drugs', 'drugsname',\n",
    "        'drug_det', 'dstatus', 'drugtst1', 'drugtst1name', 'drugres1',\n",
    "        'drugres1name', 'drugtst2', 'drugtst2name', 'drugres2', 'drugres2name',\n",
    "        'drugtst3', 'drugtst3name', 'drugres3', 'drugres3name', 'hospital',\n",
    "        'hospitalname', 'doa', 'doaname', 'death_da', 'death_daname',\n",
    "        'death_mo', 'death_moname', 'death_yr', 'death_yrname', 'death_hr',\n",
    "        'death_hrname', 'death_mn', 'death_mnname', 'death_tm', 'lag_hrs',\n",
    "        'lag_mins', 'p_sf1', 'p_sf1name', 'p_sf2', 'p_sf2name', 'p_sf3name',\n",
    "        'cert_no', 'work_inj', 'work_injname', 'hispanic', 'race', 'location',\n",
    "        'locationname', 'func_sys', 'func_sysname', 'rur_urb', 'rur_urbname',\n",
    "        'dstatusname', 'p_sf3','hispanicname','racename'\n",
    "    ]\n",
    "\n",
    "    vehicles.drop(vec_cols_to_drop, axis=1, inplace=True)\n",
    "    persons.drop(per_cols_to_drop, axis=1, inplace=True)"
   ]
  },
  {
   "cell_type": "code",
   "execution_count": 11,
   "metadata": {},
   "outputs": [],
   "source": [
    "# YOUR CODE HERE\n",
    "drop_useless_columns(vehicles,persons)"
   ]
  },
  {
   "cell_type": "code",
   "execution_count": 12,
   "metadata": {
    "scrolled": true
   },
   "outputs": [
    {
     "data": {
      "text/html": [
       "<div>\n",
       "<style scoped>\n",
       "    .dataframe tbody tr th:only-of-type {\n",
       "        vertical-align: middle;\n",
       "    }\n",
       "\n",
       "    .dataframe tbody tr th {\n",
       "        vertical-align: top;\n",
       "    }\n",
       "\n",
       "    .dataframe thead th {\n",
       "        text-align: right;\n",
       "    }\n",
       "</style>\n",
       "<table border=\"1\" class=\"dataframe\">\n",
       "  <thead>\n",
       "    <tr style=\"text-align: right;\">\n",
       "      <th></th>\n",
       "      <th>caseyear</th>\n",
       "      <th>statename</th>\n",
       "      <th>st_case</th>\n",
       "      <th>ve_forms</th>\n",
       "      <th>veh_no</th>\n",
       "      <th>per_no</th>\n",
       "      <th>str_vehname</th>\n",
       "      <th>makename</th>\n",
       "      <th>body_typname</th>\n",
       "      <th>mod_yearname</th>\n",
       "      <th>rollovername</th>\n",
       "      <th>agename</th>\n",
       "      <th>sexname</th>\n",
       "      <th>per_typname</th>\n",
       "      <th>alc_detname</th>\n",
       "      <th>drug_detname</th>\n",
       "    </tr>\n",
       "  </thead>\n",
       "  <tbody>\n",
       "    <tr>\n",
       "      <th>0</th>\n",
       "      <td>2014</td>\n",
       "      <td>Alabama</td>\n",
       "      <td>10001</td>\n",
       "      <td>1</td>\n",
       "      <td>1</td>\n",
       "      <td>1</td>\n",
       "      <td>Occupant of a Motor Vehicle</td>\n",
       "      <td>Toyota</td>\n",
       "      <td>4-door sedan, hardtop</td>\n",
       "      <td>2011</td>\n",
       "      <td>Rollover, Tripped by Object/Vehicle</td>\n",
       "      <td>24 Years</td>\n",
       "      <td>Male</td>\n",
       "      <td>Driver of a Motor Vehicle In-Transport</td>\n",
       "      <td>Observed</td>\n",
       "      <td>Not Reported</td>\n",
       "    </tr>\n",
       "    <tr>\n",
       "      <th>1</th>\n",
       "      <td>2014</td>\n",
       "      <td>Alabama</td>\n",
       "      <td>10001</td>\n",
       "      <td>1</td>\n",
       "      <td>1</td>\n",
       "      <td>2</td>\n",
       "      <td>Occupant of a Motor Vehicle</td>\n",
       "      <td>Toyota</td>\n",
       "      <td>4-door sedan, hardtop</td>\n",
       "      <td>2011</td>\n",
       "      <td>Rollover, Tripped by Object/Vehicle</td>\n",
       "      <td>30 Years</td>\n",
       "      <td>Female</td>\n",
       "      <td>Passenger of a Motor Vehicle In-Transport</td>\n",
       "      <td>Not Reported</td>\n",
       "      <td>Not Reported</td>\n",
       "    </tr>\n",
       "    <tr>\n",
       "      <th>2</th>\n",
       "      <td>2014</td>\n",
       "      <td>Alabama</td>\n",
       "      <td>10002</td>\n",
       "      <td>1</td>\n",
       "      <td>1</td>\n",
       "      <td>1</td>\n",
       "      <td>Occupant of a Motor Vehicle</td>\n",
       "      <td>Dodge</td>\n",
       "      <td>Standard pickup (GVWR 4,500 to 10,00 lbs.)(Jee...</td>\n",
       "      <td>1997</td>\n",
       "      <td>No Rollover</td>\n",
       "      <td>52 Years</td>\n",
       "      <td>Male</td>\n",
       "      <td>Driver of a Motor Vehicle In-Transport</td>\n",
       "      <td>Not Reported</td>\n",
       "      <td>Not Reported</td>\n",
       "    </tr>\n",
       "    <tr>\n",
       "      <th>3</th>\n",
       "      <td>2014</td>\n",
       "      <td>Alabama</td>\n",
       "      <td>10003</td>\n",
       "      <td>2</td>\n",
       "      <td>1</td>\n",
       "      <td>1</td>\n",
       "      <td>Occupant of a Motor Vehicle</td>\n",
       "      <td>Chevrolet</td>\n",
       "      <td>4-door sedan, hardtop</td>\n",
       "      <td>2004</td>\n",
       "      <td>No Rollover</td>\n",
       "      <td>22 Years</td>\n",
       "      <td>Male</td>\n",
       "      <td>Driver of a Motor Vehicle In-Transport</td>\n",
       "      <td>Not Reported</td>\n",
       "      <td>Not Reported</td>\n",
       "    </tr>\n",
       "    <tr>\n",
       "      <th>4</th>\n",
       "      <td>2014</td>\n",
       "      <td>Alabama</td>\n",
       "      <td>10003</td>\n",
       "      <td>2</td>\n",
       "      <td>1</td>\n",
       "      <td>2</td>\n",
       "      <td>Occupant of a Motor Vehicle</td>\n",
       "      <td>Chevrolet</td>\n",
       "      <td>4-door sedan, hardtop</td>\n",
       "      <td>2004</td>\n",
       "      <td>No Rollover</td>\n",
       "      <td>21 Years</td>\n",
       "      <td>Female</td>\n",
       "      <td>Passenger of a Motor Vehicle In-Transport</td>\n",
       "      <td>Not Reported</td>\n",
       "      <td>Not Reported</td>\n",
       "    </tr>\n",
       "  </tbody>\n",
       "</table>\n",
       "</div>"
      ],
      "text/plain": [
       "   caseyear statename  st_case  ve_forms  veh_no  per_no  \\\n",
       "0      2014   Alabama    10001         1       1       1   \n",
       "1      2014   Alabama    10001         1       1       2   \n",
       "2      2014   Alabama    10002         1       1       1   \n",
       "3      2014   Alabama    10003         2       1       1   \n",
       "4      2014   Alabama    10003         2       1       2   \n",
       "\n",
       "                   str_vehname   makename  \\\n",
       "0  Occupant of a Motor Vehicle     Toyota   \n",
       "1  Occupant of a Motor Vehicle     Toyota   \n",
       "2  Occupant of a Motor Vehicle      Dodge   \n",
       "3  Occupant of a Motor Vehicle  Chevrolet   \n",
       "4  Occupant of a Motor Vehicle  Chevrolet   \n",
       "\n",
       "                                        body_typname mod_yearname  \\\n",
       "0                              4-door sedan, hardtop         2011   \n",
       "1                              4-door sedan, hardtop         2011   \n",
       "2  Standard pickup (GVWR 4,500 to 10,00 lbs.)(Jee...         1997   \n",
       "3                              4-door sedan, hardtop         2004   \n",
       "4                              4-door sedan, hardtop         2004   \n",
       "\n",
       "                          rollovername   agename sexname  \\\n",
       "0  Rollover, Tripped by Object/Vehicle  24 Years    Male   \n",
       "1  Rollover, Tripped by Object/Vehicle  30 Years  Female   \n",
       "2                          No Rollover  52 Years    Male   \n",
       "3                          No Rollover  22 Years    Male   \n",
       "4                          No Rollover  21 Years  Female   \n",
       "\n",
       "                                 per_typname   alc_detname  drug_detname  \n",
       "0     Driver of a Motor Vehicle In-Transport      Observed  Not Reported  \n",
       "1  Passenger of a Motor Vehicle In-Transport  Not Reported  Not Reported  \n",
       "2     Driver of a Motor Vehicle In-Transport  Not Reported  Not Reported  \n",
       "3     Driver of a Motor Vehicle In-Transport  Not Reported  Not Reported  \n",
       "4  Passenger of a Motor Vehicle In-Transport  Not Reported  Not Reported  "
      ]
     },
     "execution_count": 12,
     "metadata": {},
     "output_type": "execute_result"
    }
   ],
   "source": [
    "persons.head()"
   ]
  },
  {
   "cell_type": "code",
   "execution_count": 13,
   "metadata": {},
   "outputs": [],
   "source": [
    "# Getting the persons only for driver\n",
    "latest_person = persons.loc[persons[\"per_typname\"] == \"Driver of a Motor Vehicle In-Transport\"]"
   ]
  },
  {
   "cell_type": "markdown",
   "metadata": {},
   "source": [
    "1.3.1) Complete the following method returning a single DataFrame named 'accidents' whose rows are singular for person and vehicle data. Then, merge the dataframes belongs to the same year.\n",
    "\n",
    "**Hint 1**: You need to define a key from some columns like year, st_case, and veh_no to have an unique value for each row. <br>\n",
    "**Hint 2**: You might use such methods ```<DataFrame>.merge```, ```<DataFrame>.join```, or ```pd.concat```."
   ]
  },
  {
   "cell_type": "code",
   "execution_count": 14,
   "metadata": {},
   "outputs": [
    {
     "data": {
      "text/html": [
       "<div>\n",
       "<style scoped>\n",
       "    .dataframe tbody tr th:only-of-type {\n",
       "        vertical-align: middle;\n",
       "    }\n",
       "\n",
       "    .dataframe tbody tr th {\n",
       "        vertical-align: top;\n",
       "    }\n",
       "\n",
       "    .dataframe thead th {\n",
       "        text-align: right;\n",
       "    }\n",
       "</style>\n",
       "<table border=\"1\" class=\"dataframe\">\n",
       "  <thead>\n",
       "    <tr style=\"text-align: right;\">\n",
       "      <th></th>\n",
       "      <th>caseyear</th>\n",
       "      <th>statename</th>\n",
       "      <th>st_case</th>\n",
       "      <th>ve_forms</th>\n",
       "      <th>veh_no</th>\n",
       "      <th>per_no</th>\n",
       "      <th>str_vehname</th>\n",
       "      <th>makename</th>\n",
       "      <th>body_typname</th>\n",
       "      <th>mod_yearname</th>\n",
       "      <th>rollovername</th>\n",
       "      <th>agename</th>\n",
       "      <th>sexname</th>\n",
       "      <th>per_typname</th>\n",
       "      <th>alc_detname</th>\n",
       "      <th>drug_detname</th>\n",
       "    </tr>\n",
       "  </thead>\n",
       "  <tbody>\n",
       "    <tr>\n",
       "      <th>0</th>\n",
       "      <td>2014</td>\n",
       "      <td>Alabama</td>\n",
       "      <td>10001</td>\n",
       "      <td>1</td>\n",
       "      <td>1</td>\n",
       "      <td>1</td>\n",
       "      <td>Occupant of a Motor Vehicle</td>\n",
       "      <td>Toyota</td>\n",
       "      <td>4-door sedan, hardtop</td>\n",
       "      <td>2011</td>\n",
       "      <td>Rollover, Tripped by Object/Vehicle</td>\n",
       "      <td>24 Years</td>\n",
       "      <td>Male</td>\n",
       "      <td>Driver of a Motor Vehicle In-Transport</td>\n",
       "      <td>Observed</td>\n",
       "      <td>Not Reported</td>\n",
       "    </tr>\n",
       "    <tr>\n",
       "      <th>2</th>\n",
       "      <td>2014</td>\n",
       "      <td>Alabama</td>\n",
       "      <td>10002</td>\n",
       "      <td>1</td>\n",
       "      <td>1</td>\n",
       "      <td>1</td>\n",
       "      <td>Occupant of a Motor Vehicle</td>\n",
       "      <td>Dodge</td>\n",
       "      <td>Standard pickup (GVWR 4,500 to 10,00 lbs.)(Jee...</td>\n",
       "      <td>1997</td>\n",
       "      <td>No Rollover</td>\n",
       "      <td>52 Years</td>\n",
       "      <td>Male</td>\n",
       "      <td>Driver of a Motor Vehicle In-Transport</td>\n",
       "      <td>Not Reported</td>\n",
       "      <td>Not Reported</td>\n",
       "    </tr>\n",
       "    <tr>\n",
       "      <th>3</th>\n",
       "      <td>2014</td>\n",
       "      <td>Alabama</td>\n",
       "      <td>10003</td>\n",
       "      <td>2</td>\n",
       "      <td>1</td>\n",
       "      <td>1</td>\n",
       "      <td>Occupant of a Motor Vehicle</td>\n",
       "      <td>Chevrolet</td>\n",
       "      <td>4-door sedan, hardtop</td>\n",
       "      <td>2004</td>\n",
       "      <td>No Rollover</td>\n",
       "      <td>22 Years</td>\n",
       "      <td>Male</td>\n",
       "      <td>Driver of a Motor Vehicle In-Transport</td>\n",
       "      <td>Not Reported</td>\n",
       "      <td>Not Reported</td>\n",
       "    </tr>\n",
       "    <tr>\n",
       "      <th>7</th>\n",
       "      <td>2014</td>\n",
       "      <td>Alabama</td>\n",
       "      <td>10003</td>\n",
       "      <td>2</td>\n",
       "      <td>2</td>\n",
       "      <td>1</td>\n",
       "      <td>Occupant of a Motor Vehicle</td>\n",
       "      <td>Toyota</td>\n",
       "      <td>4-door sedan, hardtop</td>\n",
       "      <td>1997</td>\n",
       "      <td>No Rollover</td>\n",
       "      <td>20 Years</td>\n",
       "      <td>Female</td>\n",
       "      <td>Driver of a Motor Vehicle In-Transport</td>\n",
       "      <td>Not Reported</td>\n",
       "      <td>Not Reported</td>\n",
       "    </tr>\n",
       "    <tr>\n",
       "      <th>10</th>\n",
       "      <td>2014</td>\n",
       "      <td>Alabama</td>\n",
       "      <td>10004</td>\n",
       "      <td>3</td>\n",
       "      <td>1</td>\n",
       "      <td>1</td>\n",
       "      <td>Occupant of a Motor Vehicle</td>\n",
       "      <td>Toyota</td>\n",
       "      <td>Compact pickup (GVWR &lt;4,500 lbs.) (D50,Colt P/...</td>\n",
       "      <td>1999</td>\n",
       "      <td>No Rollover</td>\n",
       "      <td>81 Years</td>\n",
       "      <td>Male</td>\n",
       "      <td>Driver of a Motor Vehicle In-Transport</td>\n",
       "      <td>Not Reported</td>\n",
       "      <td>Not Reported</td>\n",
       "    </tr>\n",
       "  </tbody>\n",
       "</table>\n",
       "</div>"
      ],
      "text/plain": [
       "    caseyear statename  st_case  ve_forms  veh_no  per_no  \\\n",
       "0       2014   Alabama    10001         1       1       1   \n",
       "2       2014   Alabama    10002         1       1       1   \n",
       "3       2014   Alabama    10003         2       1       1   \n",
       "7       2014   Alabama    10003         2       2       1   \n",
       "10      2014   Alabama    10004         3       1       1   \n",
       "\n",
       "                    str_vehname   makename  \\\n",
       "0   Occupant of a Motor Vehicle     Toyota   \n",
       "2   Occupant of a Motor Vehicle      Dodge   \n",
       "3   Occupant of a Motor Vehicle  Chevrolet   \n",
       "7   Occupant of a Motor Vehicle     Toyota   \n",
       "10  Occupant of a Motor Vehicle     Toyota   \n",
       "\n",
       "                                         body_typname mod_yearname  \\\n",
       "0                               4-door sedan, hardtop         2011   \n",
       "2   Standard pickup (GVWR 4,500 to 10,00 lbs.)(Jee...         1997   \n",
       "3                               4-door sedan, hardtop         2004   \n",
       "7                               4-door sedan, hardtop         1997   \n",
       "10  Compact pickup (GVWR <4,500 lbs.) (D50,Colt P/...         1999   \n",
       "\n",
       "                           rollovername   agename sexname  \\\n",
       "0   Rollover, Tripped by Object/Vehicle  24 Years    Male   \n",
       "2                           No Rollover  52 Years    Male   \n",
       "3                           No Rollover  22 Years    Male   \n",
       "7                           No Rollover  20 Years  Female   \n",
       "10                          No Rollover  81 Years    Male   \n",
       "\n",
       "                               per_typname   alc_detname  drug_detname  \n",
       "0   Driver of a Motor Vehicle In-Transport      Observed  Not Reported  \n",
       "2   Driver of a Motor Vehicle In-Transport  Not Reported  Not Reported  \n",
       "3   Driver of a Motor Vehicle In-Transport  Not Reported  Not Reported  \n",
       "7   Driver of a Motor Vehicle In-Transport  Not Reported  Not Reported  \n",
       "10  Driver of a Motor Vehicle In-Transport  Not Reported  Not Reported  "
      ]
     },
     "execution_count": 14,
     "metadata": {},
     "output_type": "execute_result"
    }
   ],
   "source": [
    "latest_person.head()"
   ]
  },
  {
   "cell_type": "code",
   "execution_count": 15,
   "metadata": {},
   "outputs": [],
   "source": [
    "def merge_vehicles_and_persons(vehicles, persons) -> pd.DataFrame:\n",
    "    \n",
    "    # YOUR CODE HERE\n",
    "    accidents = pd.merge(vehicles,persons, on = ['caseyear','st_case','veh_no','statename'])\n",
    "\n",
    "    return accidents"
   ]
  },
  {
   "cell_type": "code",
   "execution_count": 16,
   "metadata": {},
   "outputs": [],
   "source": [
    "# YOUR CODE HERE merging..\n",
    "accident = pd.DataFrame(merge_vehicles_and_persons(vehicles, latest_person))"
   ]
  },
  {
   "cell_type": "markdown",
   "metadata": {},
   "source": [
    "1.3.2) Obtain a single dataframe named 'data' by merging accidents dataframes of all available years. There might be some columns which do not present in all years. <br> \n",
    "Save this dataframe as a csv or xlsx file so that after having the final data you can skip the previous steps while doing the assignment.\n"
   ]
  },
  {
   "cell_type": "code",
   "execution_count": null,
   "metadata": {},
   "outputs": [],
   "source": [
    "# YOUR CODE HERE"
   ]
  },
  {
   "cell_type": "code",
   "execution_count": 789,
   "metadata": {},
   "outputs": [],
   "source": [
    "# Read the saved final data file as a DataFrame.\n",
    "# Remark: Your final dataset should comprise approximately 60 columns. \n",
    "\n",
    "data = accident.to_csv(\"out.csv\")"
   ]
  },
  {
   "cell_type": "code",
   "execution_count": 2,
   "metadata": {
    "scrolled": true
   },
   "outputs": [
    {
     "name": "stderr",
     "output_type": "stream",
     "text": [
      "/usr/lib/python3/dist-packages/IPython/core/interactiveshell.py:3331: DtypeWarning: Columns (15) have mixed types.Specify dtype option on import or set low_memory=False.\n",
      "  exec(code_obj, self.user_global_ns, self.user_ns)\n"
     ]
    }
   ],
   "source": [
    "data = pd.read_csv(\"out.csv\")"
   ]
  },
  {
   "cell_type": "code",
   "execution_count": 3,
   "metadata": {},
   "outputs": [],
   "source": [
    "data = data.drop(columns=[\"Unnamed: 0\"])"
   ]
  },
  {
   "cell_type": "code",
   "execution_count": 4,
   "metadata": {},
   "outputs": [
    {
     "data": {
      "text/html": [
       "<div>\n",
       "<style scoped>\n",
       "    .dataframe tbody tr th:only-of-type {\n",
       "        vertical-align: middle;\n",
       "    }\n",
       "\n",
       "    .dataframe tbody tr th {\n",
       "        vertical-align: top;\n",
       "    }\n",
       "\n",
       "    .dataframe thead th {\n",
       "        text-align: right;\n",
       "    }\n",
       "</style>\n",
       "<table border=\"1\" class=\"dataframe\">\n",
       "  <thead>\n",
       "    <tr style=\"text-align: right;\">\n",
       "      <th></th>\n",
       "      <th>caseyear</th>\n",
       "      <th>statename</th>\n",
       "      <th>st_case</th>\n",
       "      <th>veh_no</th>\n",
       "      <th>vinyear</th>\n",
       "      <th>vehtype_t</th>\n",
       "      <th>vinmake_t</th>\n",
       "      <th>vinmodel_t</th>\n",
       "      <th>bodystyl_t</th>\n",
       "      <th>doors</th>\n",
       "      <th>wheels</th>\n",
       "      <th>drivwhls</th>\n",
       "      <th>mfg_t</th>\n",
       "      <th>displci</th>\n",
       "      <th>cylndrs</th>\n",
       "      <th>fuel_t</th>\n",
       "      <th>fuelinj_t</th>\n",
       "      <th>carbtype_t</th>\n",
       "      <th>whlbsh</th>\n",
       "      <th>whlblg</th>\n",
       "      <th>tiresz_f</th>\n",
       "      <th>tiresz_f_t</th>\n",
       "      <th>rearsize_t</th>\n",
       "      <th>shipweight</th>\n",
       "      <th>msrp</th>\n",
       "      <th>drivetyp_t</th>\n",
       "      <th>abs_t</th>\n",
       "      <th>drl_t</th>\n",
       "      <th>engmfg_t</th>\n",
       "      <th>segmnt_t</th>\n",
       "      <th>plntctry_t</th>\n",
       "      <th>origin_t</th>\n",
       "      <th>dispclmt</th>\n",
       "      <th>blocktype</th>\n",
       "      <th>enghead_t</th>\n",
       "      <th>vlvclndr</th>\n",
       "      <th>vlvtotal</th>\n",
       "      <th>engvincd</th>\n",
       "      <th>ve_forms</th>\n",
       "      <th>per_no</th>\n",
       "      <th>str_vehname</th>\n",
       "      <th>makename</th>\n",
       "      <th>body_typname</th>\n",
       "      <th>mod_yearname</th>\n",
       "      <th>rollovername</th>\n",
       "      <th>agename</th>\n",
       "      <th>sexname</th>\n",
       "      <th>per_typname</th>\n",
       "      <th>alc_detname</th>\n",
       "      <th>drug_detname</th>\n",
       "    </tr>\n",
       "  </thead>\n",
       "  <tbody>\n",
       "    <tr>\n",
       "      <th>0</th>\n",
       "      <td>2014</td>\n",
       "      <td>Alabama</td>\n",
       "      <td>10001</td>\n",
       "      <td>1</td>\n",
       "      <td>2011.0</td>\n",
       "      <td>Passenger Car</td>\n",
       "      <td>TOYOTA</td>\n",
       "      <td>COROLLA</td>\n",
       "      <td>Sedan</td>\n",
       "      <td>4.0</td>\n",
       "      <td>4.0</td>\n",
       "      <td>2.0</td>\n",
       "      <td>TOYOTA</td>\n",
       "      <td>110.0</td>\n",
       "      <td>4.0</td>\n",
       "      <td>Gas</td>\n",
       "      <td>NaN</td>\n",
       "      <td>Fuel Injection</td>\n",
       "      <td>102.4</td>\n",
       "      <td>102.4</td>\n",
       "      <td>29</td>\n",
       "      <td>15R195</td>\n",
       "      <td>15R195</td>\n",
       "      <td>2734.0</td>\n",
       "      <td>15600.0</td>\n",
       "      <td>Front Wheel Drive</td>\n",
       "      <td>All Wheel Std</td>\n",
       "      <td>Standard</td>\n",
       "      <td>NaN</td>\n",
       "      <td>Non Luxury Traditional Compact</td>\n",
       "      <td>Canada</td>\n",
       "      <td>Import Built in North America</td>\n",
       "      <td>1.8</td>\n",
       "      <td>In-Line</td>\n",
       "      <td>Double Overhead Camshaft</td>\n",
       "      <td>4.0</td>\n",
       "      <td>16.0</td>\n",
       "      <td>U</td>\n",
       "      <td>1</td>\n",
       "      <td>1</td>\n",
       "      <td>Occupant of a Motor Vehicle</td>\n",
       "      <td>Toyota</td>\n",
       "      <td>4-door sedan, hardtop</td>\n",
       "      <td>2011</td>\n",
       "      <td>Rollover, Tripped by Object/Vehicle</td>\n",
       "      <td>24 Years</td>\n",
       "      <td>Male</td>\n",
       "      <td>Driver of a Motor Vehicle In-Transport</td>\n",
       "      <td>Observed</td>\n",
       "      <td>Not Reported</td>\n",
       "    </tr>\n",
       "    <tr>\n",
       "      <th>1</th>\n",
       "      <td>2014</td>\n",
       "      <td>Alabama</td>\n",
       "      <td>10001</td>\n",
       "      <td>1</td>\n",
       "      <td>2011.0</td>\n",
       "      <td>Passenger Car</td>\n",
       "      <td>TOYOTA</td>\n",
       "      <td>COROLLA</td>\n",
       "      <td>Sedan</td>\n",
       "      <td>4.0</td>\n",
       "      <td>4.0</td>\n",
       "      <td>2.0</td>\n",
       "      <td>TOYOTA</td>\n",
       "      <td>110.0</td>\n",
       "      <td>4.0</td>\n",
       "      <td>Gas</td>\n",
       "      <td>NaN</td>\n",
       "      <td>Fuel Injection</td>\n",
       "      <td>102.4</td>\n",
       "      <td>102.4</td>\n",
       "      <td>29</td>\n",
       "      <td>15R195</td>\n",
       "      <td>15R195</td>\n",
       "      <td>2734.0</td>\n",
       "      <td>15600.0</td>\n",
       "      <td>Front Wheel Drive</td>\n",
       "      <td>All Wheel Std</td>\n",
       "      <td>Standard</td>\n",
       "      <td>NaN</td>\n",
       "      <td>Non Luxury Traditional Compact</td>\n",
       "      <td>Canada</td>\n",
       "      <td>Import Built in North America</td>\n",
       "      <td>1.8</td>\n",
       "      <td>In-Line</td>\n",
       "      <td>Double Overhead Camshaft</td>\n",
       "      <td>4.0</td>\n",
       "      <td>16.0</td>\n",
       "      <td>U</td>\n",
       "      <td>1</td>\n",
       "      <td>1</td>\n",
       "      <td>Occupant of a Motor Vehicle</td>\n",
       "      <td>Toyota</td>\n",
       "      <td>4-door sedan, hardtop</td>\n",
       "      <td>2011</td>\n",
       "      <td>Rollover, Tripped by Object/Vehicle</td>\n",
       "      <td>24 Years</td>\n",
       "      <td>Male</td>\n",
       "      <td>Driver of a Motor Vehicle In-Transport</td>\n",
       "      <td>Observed</td>\n",
       "      <td>Not Reported</td>\n",
       "    </tr>\n",
       "    <tr>\n",
       "      <th>2</th>\n",
       "      <td>2014</td>\n",
       "      <td>Alabama</td>\n",
       "      <td>10001</td>\n",
       "      <td>1</td>\n",
       "      <td>2011.0</td>\n",
       "      <td>Passenger Car</td>\n",
       "      <td>TOYOTA</td>\n",
       "      <td>COROLLA</td>\n",
       "      <td>Sedan</td>\n",
       "      <td>4.0</td>\n",
       "      <td>4.0</td>\n",
       "      <td>2.0</td>\n",
       "      <td>TOYOTA</td>\n",
       "      <td>110.0</td>\n",
       "      <td>4.0</td>\n",
       "      <td>Gas</td>\n",
       "      <td>NaN</td>\n",
       "      <td>Fuel Injection</td>\n",
       "      <td>102.4</td>\n",
       "      <td>102.4</td>\n",
       "      <td>29</td>\n",
       "      <td>15R195</td>\n",
       "      <td>15R195</td>\n",
       "      <td>2734.0</td>\n",
       "      <td>15600.0</td>\n",
       "      <td>Front Wheel Drive</td>\n",
       "      <td>All Wheel Std</td>\n",
       "      <td>Standard</td>\n",
       "      <td>NaN</td>\n",
       "      <td>Non Luxury Traditional Compact</td>\n",
       "      <td>Canada</td>\n",
       "      <td>Import Built in North America</td>\n",
       "      <td>1.8</td>\n",
       "      <td>In-Line</td>\n",
       "      <td>Double Overhead Camshaft</td>\n",
       "      <td>4.0</td>\n",
       "      <td>16.0</td>\n",
       "      <td>U</td>\n",
       "      <td>1</td>\n",
       "      <td>1</td>\n",
       "      <td>Occupant of a Motor Vehicle</td>\n",
       "      <td>Toyota</td>\n",
       "      <td>4-door sedan, hardtop</td>\n",
       "      <td>2011</td>\n",
       "      <td>Rollover, Tripped by Object/Vehicle</td>\n",
       "      <td>24 Years</td>\n",
       "      <td>Male</td>\n",
       "      <td>Driver of a Motor Vehicle In-Transport</td>\n",
       "      <td>Observed</td>\n",
       "      <td>Not Reported</td>\n",
       "    </tr>\n",
       "    <tr>\n",
       "      <th>3</th>\n",
       "      <td>2014</td>\n",
       "      <td>Alabama</td>\n",
       "      <td>10001</td>\n",
       "      <td>1</td>\n",
       "      <td>2011.0</td>\n",
       "      <td>Passenger Car</td>\n",
       "      <td>TOYOTA</td>\n",
       "      <td>COROLLA</td>\n",
       "      <td>Sedan</td>\n",
       "      <td>4.0</td>\n",
       "      <td>4.0</td>\n",
       "      <td>2.0</td>\n",
       "      <td>TOYOTA</td>\n",
       "      <td>110.0</td>\n",
       "      <td>4.0</td>\n",
       "      <td>Gas</td>\n",
       "      <td>NaN</td>\n",
       "      <td>Fuel Injection</td>\n",
       "      <td>102.4</td>\n",
       "      <td>102.4</td>\n",
       "      <td>29</td>\n",
       "      <td>15R195</td>\n",
       "      <td>15R195</td>\n",
       "      <td>2734.0</td>\n",
       "      <td>15600.0</td>\n",
       "      <td>Front Wheel Drive</td>\n",
       "      <td>All Wheel Std</td>\n",
       "      <td>Standard</td>\n",
       "      <td>NaN</td>\n",
       "      <td>Non Luxury Traditional Compact</td>\n",
       "      <td>Canada</td>\n",
       "      <td>Import Built in North America</td>\n",
       "      <td>1.8</td>\n",
       "      <td>In-Line</td>\n",
       "      <td>Double Overhead Camshaft</td>\n",
       "      <td>4.0</td>\n",
       "      <td>16.0</td>\n",
       "      <td>U</td>\n",
       "      <td>1</td>\n",
       "      <td>1</td>\n",
       "      <td>Occupant of a Motor Vehicle</td>\n",
       "      <td>Toyota</td>\n",
       "      <td>4-door sedan, hardtop</td>\n",
       "      <td>2011</td>\n",
       "      <td>Rollover, Tripped by Object/Vehicle</td>\n",
       "      <td>24 Years</td>\n",
       "      <td>Male</td>\n",
       "      <td>Driver of a Motor Vehicle In-Transport</td>\n",
       "      <td>Observed</td>\n",
       "      <td>Not Reported</td>\n",
       "    </tr>\n",
       "    <tr>\n",
       "      <th>4</th>\n",
       "      <td>2014</td>\n",
       "      <td>Alabama</td>\n",
       "      <td>10002</td>\n",
       "      <td>1</td>\n",
       "      <td>1997.0</td>\n",
       "      <td>Truck</td>\n",
       "      <td>DODGE</td>\n",
       "      <td>RAM 2500</td>\n",
       "      <td>Pickup</td>\n",
       "      <td>2.0</td>\n",
       "      <td>4.0</td>\n",
       "      <td>2.0</td>\n",
       "      <td>DAIMLER-CHRYSLER</td>\n",
       "      <td>360.0</td>\n",
       "      <td>8.0</td>\n",
       "      <td>Gas</td>\n",
       "      <td>Unknown</td>\n",
       "      <td>Fuel Injection</td>\n",
       "      <td>138.7</td>\n",
       "      <td>154.7</td>\n",
       "      <td>NaN</td>\n",
       "      <td>NaN</td>\n",
       "      <td>NaN</td>\n",
       "      <td>4787.0</td>\n",
       "      <td>20775.0</td>\n",
       "      <td>Rear Wheel Drive</td>\n",
       "      <td>Other Std</td>\n",
       "      <td>Not Available</td>\n",
       "      <td>CHRYSLER</td>\n",
       "      <td>Non Luxury Full Size 3qtr to 1 Ton Pickup</td>\n",
       "      <td>Mexico</td>\n",
       "      <td>Domestic</td>\n",
       "      <td>5.9</td>\n",
       "      <td>V-type</td>\n",
       "      <td>Overhead Valve</td>\n",
       "      <td>2.0</td>\n",
       "      <td>16.0</td>\n",
       "      <td>Z</td>\n",
       "      <td>1</td>\n",
       "      <td>1</td>\n",
       "      <td>Occupant of a Motor Vehicle</td>\n",
       "      <td>Dodge</td>\n",
       "      <td>Standard pickup (GVWR 4,500 to 10,00 lbs.)(Jee...</td>\n",
       "      <td>1997</td>\n",
       "      <td>No Rollover</td>\n",
       "      <td>52 Years</td>\n",
       "      <td>Male</td>\n",
       "      <td>Driver of a Motor Vehicle In-Transport</td>\n",
       "      <td>Not Reported</td>\n",
       "      <td>Not Reported</td>\n",
       "    </tr>\n",
       "  </tbody>\n",
       "</table>\n",
       "</div>"
      ],
      "text/plain": [
       "   caseyear statename  st_case  veh_no  vinyear      vehtype_t vinmake_t  \\\n",
       "0      2014   Alabama    10001       1   2011.0  Passenger Car    TOYOTA   \n",
       "1      2014   Alabama    10001       1   2011.0  Passenger Car    TOYOTA   \n",
       "2      2014   Alabama    10001       1   2011.0  Passenger Car    TOYOTA   \n",
       "3      2014   Alabama    10001       1   2011.0  Passenger Car    TOYOTA   \n",
       "4      2014   Alabama    10002       1   1997.0          Truck     DODGE   \n",
       "\n",
       "  vinmodel_t bodystyl_t  doors  wheels  drivwhls             mfg_t  displci  \\\n",
       "0    COROLLA      Sedan    4.0     4.0       2.0            TOYOTA    110.0   \n",
       "1    COROLLA      Sedan    4.0     4.0       2.0            TOYOTA    110.0   \n",
       "2    COROLLA      Sedan    4.0     4.0       2.0            TOYOTA    110.0   \n",
       "3    COROLLA      Sedan    4.0     4.0       2.0            TOYOTA    110.0   \n",
       "4   RAM 2500     Pickup    2.0     4.0       2.0  DAIMLER-CHRYSLER    360.0   \n",
       "\n",
       "  cylndrs fuel_t fuelinj_t      carbtype_t  whlbsh  whlblg tiresz_f  \\\n",
       "0     4.0    Gas       NaN  Fuel Injection   102.4   102.4       29   \n",
       "1     4.0    Gas       NaN  Fuel Injection   102.4   102.4       29   \n",
       "2     4.0    Gas       NaN  Fuel Injection   102.4   102.4       29   \n",
       "3     4.0    Gas       NaN  Fuel Injection   102.4   102.4       29   \n",
       "4     8.0    Gas   Unknown  Fuel Injection   138.7   154.7      NaN   \n",
       "\n",
       "  tiresz_f_t rearsize_t  shipweight     msrp         drivetyp_t  \\\n",
       "0     15R195     15R195      2734.0  15600.0  Front Wheel Drive   \n",
       "1     15R195     15R195      2734.0  15600.0  Front Wheel Drive   \n",
       "2     15R195     15R195      2734.0  15600.0  Front Wheel Drive   \n",
       "3     15R195     15R195      2734.0  15600.0  Front Wheel Drive   \n",
       "4        NaN        NaN      4787.0  20775.0   Rear Wheel Drive   \n",
       "\n",
       "           abs_t          drl_t  engmfg_t  \\\n",
       "0  All Wheel Std       Standard       NaN   \n",
       "1  All Wheel Std       Standard       NaN   \n",
       "2  All Wheel Std       Standard       NaN   \n",
       "3  All Wheel Std       Standard       NaN   \n",
       "4      Other Std  Not Available  CHRYSLER   \n",
       "\n",
       "                                    segmnt_t plntctry_t  \\\n",
       "0             Non Luxury Traditional Compact     Canada   \n",
       "1             Non Luxury Traditional Compact     Canada   \n",
       "2             Non Luxury Traditional Compact     Canada   \n",
       "3             Non Luxury Traditional Compact     Canada   \n",
       "4  Non Luxury Full Size 3qtr to 1 Ton Pickup     Mexico   \n",
       "\n",
       "                        origin_t  dispclmt blocktype  \\\n",
       "0  Import Built in North America       1.8   In-Line   \n",
       "1  Import Built in North America       1.8   In-Line   \n",
       "2  Import Built in North America       1.8   In-Line   \n",
       "3  Import Built in North America       1.8   In-Line   \n",
       "4                       Domestic       5.9    V-type   \n",
       "\n",
       "                  enghead_t  vlvclndr  vlvtotal engvincd  ve_forms  per_no  \\\n",
       "0  Double Overhead Camshaft       4.0      16.0        U         1       1   \n",
       "1  Double Overhead Camshaft       4.0      16.0        U         1       1   \n",
       "2  Double Overhead Camshaft       4.0      16.0        U         1       1   \n",
       "3  Double Overhead Camshaft       4.0      16.0        U         1       1   \n",
       "4            Overhead Valve       2.0      16.0        Z         1       1   \n",
       "\n",
       "                   str_vehname makename  \\\n",
       "0  Occupant of a Motor Vehicle   Toyota   \n",
       "1  Occupant of a Motor Vehicle   Toyota   \n",
       "2  Occupant of a Motor Vehicle   Toyota   \n",
       "3  Occupant of a Motor Vehicle   Toyota   \n",
       "4  Occupant of a Motor Vehicle    Dodge   \n",
       "\n",
       "                                        body_typname mod_yearname  \\\n",
       "0                              4-door sedan, hardtop         2011   \n",
       "1                              4-door sedan, hardtop         2011   \n",
       "2                              4-door sedan, hardtop         2011   \n",
       "3                              4-door sedan, hardtop         2011   \n",
       "4  Standard pickup (GVWR 4,500 to 10,00 lbs.)(Jee...         1997   \n",
       "\n",
       "                          rollovername   agename sexname  \\\n",
       "0  Rollover, Tripped by Object/Vehicle  24 Years    Male   \n",
       "1  Rollover, Tripped by Object/Vehicle  24 Years    Male   \n",
       "2  Rollover, Tripped by Object/Vehicle  24 Years    Male   \n",
       "3  Rollover, Tripped by Object/Vehicle  24 Years    Male   \n",
       "4                          No Rollover  52 Years    Male   \n",
       "\n",
       "                              per_typname   alc_detname  drug_detname  \n",
       "0  Driver of a Motor Vehicle In-Transport      Observed  Not Reported  \n",
       "1  Driver of a Motor Vehicle In-Transport      Observed  Not Reported  \n",
       "2  Driver of a Motor Vehicle In-Transport      Observed  Not Reported  \n",
       "3  Driver of a Motor Vehicle In-Transport      Observed  Not Reported  \n",
       "4  Driver of a Motor Vehicle In-Transport  Not Reported  Not Reported  "
      ]
     },
     "execution_count": 4,
     "metadata": {},
     "output_type": "execute_result"
    }
   ],
   "source": [
    "data.head()"
   ]
  },
  {
   "cell_type": "markdown",
   "metadata": {},
   "source": [
    "#  Part-2: Exploratory Data Analysis (EDA)\n",
    "\n",
    "> In this part, explore categorical and numerical features and report some prominent characteristics of data.<br>\n",
    "Try to get insights from the data for the feature engineering part.<br>\n",
    "\n",
    ">Before the analysis, inspect the target variable.<br>\n",
    "Decide on what type of problem is better to learn the car rollover phenomenon by ML models.<br>\n",
    "Setting problem type is an crucial decision for achievements of ML projects.<br>\n",
    "**Hint**: You should take an action changing the target variable.<br>\n",
    "- Detecting missing values, e.g. 0, NaN, 999, -1, representative words (unknown, unavailable, etc.), ...\n",
    "- Dropping duplicate and empty rows/columns\n",
    "- histograms, scatter and bar plots\n",
    "- value counts of categorical features\n",
    "- statistical tables"
   ]
  },
  {
   "cell_type": "code",
   "execution_count": 5,
   "metadata": {
    "scrolled": true
   },
   "outputs": [
    {
     "data": {
      "text/plain": [
       "(439291, 50)"
      ]
     },
     "execution_count": 5,
     "metadata": {},
     "output_type": "execute_result"
    }
   ],
   "source": [
    "#Inspect our data\n",
    "data.shape"
   ]
  },
  {
   "cell_type": "code",
   "execution_count": 6,
   "metadata": {
    "scrolled": false
   },
   "outputs": [
    {
     "data": {
      "text/html": [
       "<div>\n",
       "<style scoped>\n",
       "    .dataframe tbody tr th:only-of-type {\n",
       "        vertical-align: middle;\n",
       "    }\n",
       "\n",
       "    .dataframe tbody tr th {\n",
       "        vertical-align: top;\n",
       "    }\n",
       "\n",
       "    .dataframe thead th {\n",
       "        text-align: right;\n",
       "    }\n",
       "</style>\n",
       "<table border=\"1\" class=\"dataframe\">\n",
       "  <thead>\n",
       "    <tr style=\"text-align: right;\">\n",
       "      <th></th>\n",
       "      <th>caseyear</th>\n",
       "      <th>st_case</th>\n",
       "      <th>veh_no</th>\n",
       "      <th>vinyear</th>\n",
       "      <th>doors</th>\n",
       "      <th>wheels</th>\n",
       "      <th>drivwhls</th>\n",
       "      <th>displci</th>\n",
       "      <th>whlbsh</th>\n",
       "      <th>whlblg</th>\n",
       "      <th>shipweight</th>\n",
       "      <th>msrp</th>\n",
       "      <th>dispclmt</th>\n",
       "      <th>vlvclndr</th>\n",
       "      <th>vlvtotal</th>\n",
       "      <th>ve_forms</th>\n",
       "      <th>per_no</th>\n",
       "    </tr>\n",
       "  </thead>\n",
       "  <tbody>\n",
       "    <tr>\n",
       "      <th>count</th>\n",
       "      <td>439291.000000</td>\n",
       "      <td>439291.000000</td>\n",
       "      <td>439291.000000</td>\n",
       "      <td>420670.000000</td>\n",
       "      <td>420670.000000</td>\n",
       "      <td>420670.000000</td>\n",
       "      <td>420670.000000</td>\n",
       "      <td>420670.000000</td>\n",
       "      <td>341196.000000</td>\n",
       "      <td>341192.000000</td>\n",
       "      <td>420670.000000</td>\n",
       "      <td>420670.000000</td>\n",
       "      <td>364201.000000</td>\n",
       "      <td>420670.000000</td>\n",
       "      <td>420670.000000</td>\n",
       "      <td>439291.000000</td>\n",
       "      <td>439291.000000</td>\n",
       "    </tr>\n",
       "    <tr>\n",
       "      <th>mean</th>\n",
       "      <td>2015.776214</td>\n",
       "      <td>276398.946721</td>\n",
       "      <td>1.465730</td>\n",
       "      <td>2005.554049</td>\n",
       "      <td>2.934835</td>\n",
       "      <td>2.783764</td>\n",
       "      <td>1.877695</td>\n",
       "      <td>237.512064</td>\n",
       "      <td>115.962057</td>\n",
       "      <td>119.918731</td>\n",
       "      <td>3089.602458</td>\n",
       "      <td>21303.124145</td>\n",
       "      <td>4.108588</td>\n",
       "      <td>1.730825</td>\n",
       "      <td>9.326617</td>\n",
       "      <td>1.928155</td>\n",
       "      <td>1.000553</td>\n",
       "    </tr>\n",
       "    <tr>\n",
       "      <th>std</th>\n",
       "      <td>1.830911</td>\n",
       "      <td>163251.636654</td>\n",
       "      <td>1.174434</td>\n",
       "      <td>6.745418</td>\n",
       "      <td>1.576735</td>\n",
       "      <td>2.036380</td>\n",
       "      <td>1.557569</td>\n",
       "      <td>191.330061</td>\n",
       "      <td>15.815118</td>\n",
       "      <td>26.440720</td>\n",
       "      <td>1708.909565</td>\n",
       "      <td>12259.558655</td>\n",
       "      <td>2.660800</td>\n",
       "      <td>1.846041</td>\n",
       "      <td>10.096606</td>\n",
       "      <td>1.852402</td>\n",
       "      <td>0.032947</td>\n",
       "    </tr>\n",
       "    <tr>\n",
       "      <th>min</th>\n",
       "      <td>2014.000000</td>\n",
       "      <td>10001.000000</td>\n",
       "      <td>1.000000</td>\n",
       "      <td>1981.000000</td>\n",
       "      <td>0.000000</td>\n",
       "      <td>0.000000</td>\n",
       "      <td>0.000000</td>\n",
       "      <td>0.000000</td>\n",
       "      <td>0.000000</td>\n",
       "      <td>0.000000</td>\n",
       "      <td>0.000000</td>\n",
       "      <td>0.000000</td>\n",
       "      <td>0.000000</td>\n",
       "      <td>0.000000</td>\n",
       "      <td>0.000000</td>\n",
       "      <td>1.000000</td>\n",
       "      <td>1.000000</td>\n",
       "    </tr>\n",
       "    <tr>\n",
       "      <th>25%</th>\n",
       "      <td>2014.000000</td>\n",
       "      <td>122011.000000</td>\n",
       "      <td>1.000000</td>\n",
       "      <td>2001.000000</td>\n",
       "      <td>2.000000</td>\n",
       "      <td>0.000000</td>\n",
       "      <td>0.000000</td>\n",
       "      <td>132.000000</td>\n",
       "      <td>105.700000</td>\n",
       "      <td>105.700000</td>\n",
       "      <td>2530.000000</td>\n",
       "      <td>14799.000000</td>\n",
       "      <td>2.400000</td>\n",
       "      <td>0.000000</td>\n",
       "      <td>0.000000</td>\n",
       "      <td>1.000000</td>\n",
       "      <td>1.000000</td>\n",
       "    </tr>\n",
       "    <tr>\n",
       "      <th>50%</th>\n",
       "      <td>2015.000000</td>\n",
       "      <td>270269.000000</td>\n",
       "      <td>1.000000</td>\n",
       "      <td>2006.000000</td>\n",
       "      <td>4.000000</td>\n",
       "      <td>4.000000</td>\n",
       "      <td>2.000000</td>\n",
       "      <td>207.000000</td>\n",
       "      <td>110.500000</td>\n",
       "      <td>110.500000</td>\n",
       "      <td>3330.000000</td>\n",
       "      <td>21231.000000</td>\n",
       "      <td>3.500000</td>\n",
       "      <td>0.000000</td>\n",
       "      <td>0.000000</td>\n",
       "      <td>2.000000</td>\n",
       "      <td>1.000000</td>\n",
       "    </tr>\n",
       "    <tr>\n",
       "      <th>75%</th>\n",
       "      <td>2017.000000</td>\n",
       "      <td>420825.000000</td>\n",
       "      <td>2.000000</td>\n",
       "      <td>2011.000000</td>\n",
       "      <td>4.000000</td>\n",
       "      <td>4.000000</td>\n",
       "      <td>4.000000</td>\n",
       "      <td>293.000000</td>\n",
       "      <td>120.200000</td>\n",
       "      <td>123.100000</td>\n",
       "      <td>4129.000000</td>\n",
       "      <td>27710.000000</td>\n",
       "      <td>5.000000</td>\n",
       "      <td>4.000000</td>\n",
       "      <td>16.000000</td>\n",
       "      <td>2.000000</td>\n",
       "      <td>1.000000</td>\n",
       "    </tr>\n",
       "    <tr>\n",
       "      <th>max</th>\n",
       "      <td>2019.000000</td>\n",
       "      <td>560131.000000</td>\n",
       "      <td>64.000000</td>\n",
       "      <td>2020.000000</td>\n",
       "      <td>5.000000</td>\n",
       "      <td>14.000000</td>\n",
       "      <td>8.000000</td>\n",
       "      <td>1099.000000</td>\n",
       "      <td>254.000000</td>\n",
       "      <td>960.000000</td>\n",
       "      <td>14795.000000</td>\n",
       "      <td>441600.000000</td>\n",
       "      <td>16.100000</td>\n",
       "      <td>16.000000</td>\n",
       "      <td>48.000000</td>\n",
       "      <td>64.000000</td>\n",
       "      <td>8.000000</td>\n",
       "    </tr>\n",
       "  </tbody>\n",
       "</table>\n",
       "</div>"
      ],
      "text/plain": [
       "            caseyear        st_case         veh_no        vinyear  \\\n",
       "count  439291.000000  439291.000000  439291.000000  420670.000000   \n",
       "mean     2015.776214  276398.946721       1.465730    2005.554049   \n",
       "std         1.830911  163251.636654       1.174434       6.745418   \n",
       "min      2014.000000   10001.000000       1.000000    1981.000000   \n",
       "25%      2014.000000  122011.000000       1.000000    2001.000000   \n",
       "50%      2015.000000  270269.000000       1.000000    2006.000000   \n",
       "75%      2017.000000  420825.000000       2.000000    2011.000000   \n",
       "max      2019.000000  560131.000000      64.000000    2020.000000   \n",
       "\n",
       "               doors         wheels       drivwhls        displci  \\\n",
       "count  420670.000000  420670.000000  420670.000000  420670.000000   \n",
       "mean        2.934835       2.783764       1.877695     237.512064   \n",
       "std         1.576735       2.036380       1.557569     191.330061   \n",
       "min         0.000000       0.000000       0.000000       0.000000   \n",
       "25%         2.000000       0.000000       0.000000     132.000000   \n",
       "50%         4.000000       4.000000       2.000000     207.000000   \n",
       "75%         4.000000       4.000000       4.000000     293.000000   \n",
       "max         5.000000      14.000000       8.000000    1099.000000   \n",
       "\n",
       "              whlbsh         whlblg     shipweight           msrp  \\\n",
       "count  341196.000000  341192.000000  420670.000000  420670.000000   \n",
       "mean      115.962057     119.918731    3089.602458   21303.124145   \n",
       "std        15.815118      26.440720    1708.909565   12259.558655   \n",
       "min         0.000000       0.000000       0.000000       0.000000   \n",
       "25%       105.700000     105.700000    2530.000000   14799.000000   \n",
       "50%       110.500000     110.500000    3330.000000   21231.000000   \n",
       "75%       120.200000     123.100000    4129.000000   27710.000000   \n",
       "max       254.000000     960.000000   14795.000000  441600.000000   \n",
       "\n",
       "            dispclmt       vlvclndr       vlvtotal       ve_forms  \\\n",
       "count  364201.000000  420670.000000  420670.000000  439291.000000   \n",
       "mean        4.108588       1.730825       9.326617       1.928155   \n",
       "std         2.660800       1.846041      10.096606       1.852402   \n",
       "min         0.000000       0.000000       0.000000       1.000000   \n",
       "25%         2.400000       0.000000       0.000000       1.000000   \n",
       "50%         3.500000       0.000000       0.000000       2.000000   \n",
       "75%         5.000000       4.000000      16.000000       2.000000   \n",
       "max        16.100000      16.000000      48.000000      64.000000   \n",
       "\n",
       "              per_no  \n",
       "count  439291.000000  \n",
       "mean        1.000553  \n",
       "std         0.032947  \n",
       "min         1.000000  \n",
       "25%         1.000000  \n",
       "50%         1.000000  \n",
       "75%         1.000000  \n",
       "max         8.000000  "
      ]
     },
     "execution_count": 6,
     "metadata": {},
     "output_type": "execute_result"
    }
   ],
   "source": [
    "# Inspect our data\n",
    "data.describe()"
   ]
  },
  {
   "cell_type": "code",
   "execution_count": 7,
   "metadata": {
    "scrolled": true
   },
   "outputs": [
    {
     "data": {
      "text/plain": [
       "101900"
      ]
     },
     "execution_count": 7,
     "metadata": {},
     "output_type": "execute_result"
    }
   ],
   "source": [
    "#Checking the value counts\n",
    "data['rearsize_t'].value_counts().sum()"
   ]
  },
  {
   "cell_type": "code",
   "execution_count": 8,
   "metadata": {},
   "outputs": [
    {
     "data": {
      "text/plain": [
       "178051"
      ]
     },
     "execution_count": 8,
     "metadata": {},
     "output_type": "execute_result"
    }
   ],
   "source": [
    "data['engmfg_t'].value_counts().sum()"
   ]
  },
  {
   "cell_type": "code",
   "execution_count": 9,
   "metadata": {},
   "outputs": [
    {
     "data": {
      "text/plain": [
       "Double Overhead Camshaft    146254\n",
       "Overhead Valve               55283\n",
       "Single Overhead Camshaft     51162\n",
       "Unknown                       1539\n",
       "Name: enghead_t, dtype: int64"
      ]
     },
     "execution_count": 9,
     "metadata": {},
     "output_type": "execute_result"
    }
   ],
   "source": [
    "data['enghead_t'].value_counts()"
   ]
  },
  {
   "cell_type": "code",
   "execution_count": 10,
   "metadata": {
    "scrolled": true
   },
   "outputs": [
    {
     "data": {
      "text/plain": [
       "Unknown         215368\n",
       "Sequential       43401\n",
       "Direct           33220\n",
       "Multiport        18589\n",
       "Common Rail       2357\n",
       "Port               685\n",
       "Throttlebody        68\n",
       "Name: fuelinj_t, dtype: int64"
      ]
     },
     "execution_count": 10,
     "metadata": {},
     "output_type": "execute_result"
    }
   ],
   "source": [
    "data['fuelinj_t'].value_counts()"
   ]
  },
  {
   "cell_type": "code",
   "execution_count": 11,
   "metadata": {},
   "outputs": [
    {
     "data": {
      "text/plain": [
       "Standard         140091\n",
       "Not Available    118046\n",
       "Optional          62753\n",
       "Unknown           12379\n",
       "Available            34\n",
       "STANDARD              5\n",
       "Name: drl_t, dtype: int64"
      ]
     },
     "execution_count": 11,
     "metadata": {},
     "output_type": "execute_result"
    }
   ],
   "source": [
    "data['drl_t'].value_counts()"
   ]
  },
  {
   "cell_type": "code",
   "execution_count": 12,
   "metadata": {
    "scrolled": false
   },
   "outputs": [
    {
     "data": {
      "text/plain": [
       "caseyear             0\n",
       "statename            0\n",
       "st_case              0\n",
       "veh_no               0\n",
       "vinyear          18621\n",
       "vehtype_t        18621\n",
       "vinmake_t        18621\n",
       "vinmodel_t       18648\n",
       "bodystyl_t       18621\n",
       "doors            18621\n",
       "wheels           18621\n",
       "drivwhls         18621\n",
       "mfg_t            29399\n",
       "displci          18621\n",
       "cylndrs          19078\n",
       "fuel_t           62753\n",
       "fuelinj_t       125603\n",
       "carbtype_t       97625\n",
       "whlbsh           98095\n",
       "whlblg           98099\n",
       "tiresz_f        178797\n",
       "tiresz_f_t      178797\n",
       "rearsize_t      337391\n",
       "shipweight       18621\n",
       "msrp             18621\n",
       "drivetyp_t       63095\n",
       "abs_t           112693\n",
       "drl_t           105983\n",
       "engmfg_t        261240\n",
       "segmnt_t         62640\n",
       "plntctry_t       23244\n",
       "origin_t         20104\n",
       "dispclmt         75090\n",
       "blocktype        98693\n",
       "enghead_t       185053\n",
       "vlvclndr         18621\n",
       "vlvtotal         18621\n",
       "engvincd         50466\n",
       "ve_forms             0\n",
       "per_no               0\n",
       "str_vehname          0\n",
       "makename             0\n",
       "body_typname         0\n",
       "mod_yearname         0\n",
       "rollovername         0\n",
       "agename              0\n",
       "sexname              0\n",
       "per_typname          0\n",
       "alc_detname          0\n",
       "drug_detname         0\n",
       "dtype: int64"
      ]
     },
     "execution_count": 12,
     "metadata": {},
     "output_type": "execute_result"
    }
   ],
   "source": [
    "data.isnull().sum()"
   ]
  },
  {
   "cell_type": "code",
   "execution_count": 13,
   "metadata": {},
   "outputs": [],
   "source": [
    "# Dropping unneccery columns after I evaulated I decided to drop them\n",
    "data = data.drop([\n",
    "    'rearsize_t', 'engmfg_t', 'agename', 'sexname', 'body_typname', 'engvincd',\n",
    "    'mod_yearname', 'tiresz_f', 'segmnt_t', 'alc_detname', 'drug_detname',\n",
    "    'fuelinj_t', 'whlbsh', 'whlblg', 'blocktype', 'origin_t'\n",
    "],\n",
    "                 axis=1)"
   ]
  },
  {
   "cell_type": "code",
   "execution_count": 14,
   "metadata": {
    "scrolled": false
   },
   "outputs": [
    {
     "data": {
      "text/plain": [
       "No Rollover                            369460\n",
       "Rollover, Tripped by Object/Vehicle     57641\n",
       "Rollover, Untripped                      9067\n",
       "Rollover, Unknown Type                   3123\n",
       "Name: rollovername, dtype: int64"
      ]
     },
     "execution_count": 14,
     "metadata": {},
     "output_type": "execute_result"
    }
   ],
   "source": [
    "#Inspecting our target value\n",
    "data['rollovername'].value_counts()"
   ]
  },
  {
   "cell_type": "code",
   "execution_count": 15,
   "metadata": {
    "scrolled": true
   },
   "outputs": [
    {
     "name": "stdout",
     "output_type": "stream",
     "text": [
      "<class 'pandas.core.frame.DataFrame'>\n",
      "RangeIndex: 439291 entries, 0 to 439290\n",
      "Data columns (total 34 columns):\n",
      " #   Column        Non-Null Count   Dtype  \n",
      "---  ------        --------------   -----  \n",
      " 0   caseyear      439291 non-null  int64  \n",
      " 1   statename     439291 non-null  object \n",
      " 2   st_case       439291 non-null  int64  \n",
      " 3   veh_no        439291 non-null  int64  \n",
      " 4   vinyear       420670 non-null  float64\n",
      " 5   vehtype_t     420670 non-null  object \n",
      " 6   vinmake_t     420670 non-null  object \n",
      " 7   vinmodel_t    420643 non-null  object \n",
      " 8   bodystyl_t    420670 non-null  object \n",
      " 9   doors         420670 non-null  float64\n",
      " 10  wheels        420670 non-null  float64\n",
      " 11  drivwhls      420670 non-null  float64\n",
      " 12  mfg_t         409892 non-null  object \n",
      " 13  displci       420670 non-null  float64\n",
      " 14  cylndrs       420213 non-null  object \n",
      " 15  fuel_t        376538 non-null  object \n",
      " 16  carbtype_t    341666 non-null  object \n",
      " 17  tiresz_f_t    260494 non-null  object \n",
      " 18  shipweight    420670 non-null  float64\n",
      " 19  msrp          420670 non-null  float64\n",
      " 20  drivetyp_t    376196 non-null  object \n",
      " 21  abs_t         326598 non-null  object \n",
      " 22  drl_t         333308 non-null  object \n",
      " 23  plntctry_t    416047 non-null  object \n",
      " 24  dispclmt      364201 non-null  float64\n",
      " 25  enghead_t     254238 non-null  object \n",
      " 26  vlvclndr      420670 non-null  float64\n",
      " 27  vlvtotal      420670 non-null  float64\n",
      " 28  ve_forms      439291 non-null  int64  \n",
      " 29  per_no        439291 non-null  int64  \n",
      " 30  str_vehname   439291 non-null  object \n",
      " 31  makename      439291 non-null  object \n",
      " 32  rollovername  439291 non-null  object \n",
      " 33  per_typname   439291 non-null  object \n",
      "dtypes: float64(10), int64(5), object(19)\n",
      "memory usage: 114.0+ MB\n"
     ]
    }
   ],
   "source": [
    "data.info()"
   ]
  },
  {
   "cell_type": "code",
   "execution_count": 16,
   "metadata": {},
   "outputs": [],
   "source": [
    "# Do not include record identifier columns (e.g. st_case, veh_no, etc.) into the following lists!\n",
    "categorical = [\n",
    "    'statename', 'vehtype_t', 'vinmake_t', 'vinmodel_t', 'bodystyl_t', 'mfg_t',\n",
    "    'cylndrs', 'fuel_t', 'carbtype_t', 'tiresz_f_t', 'drivetyp_t', 'abs_t',\n",
    "    'drl_t', 'plntctry_t', 'enghead_t', 'str_vehname', 'makename',\n",
    "    'per_typname'\n",
    "]  # names of columns having categorical values\n",
    "numeric = [\n",
    "    'vinyear', 'doors', 'wheels', 'drivwhls', 'displci', 'shipweight', 'msrp',\n",
    "    'dispclmt', 'vlvclndr', 'vlvtotal', 've_forms', 'per_no'\n",
    "]  # names of columns having numerical values\n",
    "target_name = [\n",
    "    \"rollovername\"\n",
    "]  # set the column name of target variable (it is named 'rollovername' in FARS datasets)\n",
    "\n",
    "#YOUR CODE HERE\n",
    "\n",
    "features = categorical + numeric"
   ]
  },
  {
   "cell_type": "code",
   "execution_count": 17,
   "metadata": {},
   "outputs": [],
   "source": [
    "# YOUR CODE HERE\n",
    "# Replacing Unknown with nan\n",
    "for i in data[features]:\n",
    "    data = data.replace('Unknown',np.nan)"
   ]
  },
  {
   "cell_type": "code",
   "execution_count": 18,
   "metadata": {
    "scrolled": true
   },
   "outputs": [
    {
     "data": {
      "text/plain": [
       "caseyear             0\n",
       "statename            0\n",
       "st_case              0\n",
       "veh_no               0\n",
       "vinyear          18621\n",
       "vehtype_t        18621\n",
       "vinmake_t        18621\n",
       "vinmodel_t       18648\n",
       "bodystyl_t       18621\n",
       "doors            18621\n",
       "wheels           18621\n",
       "drivwhls         18621\n",
       "mfg_t            29399\n",
       "displci          18621\n",
       "cylndrs          19078\n",
       "fuel_t           62802\n",
       "carbtype_t       97671\n",
       "tiresz_f_t      180866\n",
       "shipweight       18621\n",
       "msrp             18621\n",
       "drivetyp_t       63095\n",
       "abs_t           114120\n",
       "drl_t           118362\n",
       "plntctry_t       23246\n",
       "dispclmt         75090\n",
       "enghead_t       186592\n",
       "vlvclndr         18621\n",
       "vlvtotal         18621\n",
       "ve_forms             0\n",
       "per_no               0\n",
       "str_vehname          0\n",
       "makename             0\n",
       "rollovername         0\n",
       "per_typname          0\n",
       "dtype: int64"
      ]
     },
     "execution_count": 18,
     "metadata": {},
     "output_type": "execute_result"
    }
   ],
   "source": [
    "data.isnull().sum()"
   ]
  },
  {
   "cell_type": "code",
   "execution_count": 19,
   "metadata": {
    "scrolled": false
   },
   "outputs": [],
   "source": [
    "# Dropping duplicates\n",
    "data = data.drop_duplicates(subset=categorical)"
   ]
  },
  {
   "cell_type": "code",
   "execution_count": 20,
   "metadata": {},
   "outputs": [
    {
     "data": {
      "text/plain": [
       "statename          0\n",
       "vehtype_t       1192\n",
       "vinmake_t       1192\n",
       "vinmodel_t      1213\n",
       "bodystyl_t      1192\n",
       "mfg_t           5128\n",
       "cylndrs         1419\n",
       "fuel_t         13809\n",
       "carbtype_t     20855\n",
       "tiresz_f_t     46690\n",
       "drivetyp_t     13929\n",
       "abs_t          27703\n",
       "drl_t          29789\n",
       "plntctry_t      2871\n",
       "enghead_t      49451\n",
       "str_vehname        0\n",
       "makename           0\n",
       "per_typname        0\n",
       "vinyear         1192\n",
       "doors           1192\n",
       "wheels          1192\n",
       "drivwhls        1192\n",
       "displci         1192\n",
       "shipweight      1192\n",
       "msrp            1192\n",
       "dispclmt       16670\n",
       "vlvclndr        1192\n",
       "vlvtotal        1192\n",
       "ve_forms           0\n",
       "per_no             0\n",
       "dtype: int64"
      ]
     },
     "execution_count": 20,
     "metadata": {},
     "output_type": "execute_result"
    }
   ],
   "source": [
    "data[features].isnull().sum()"
   ]
  },
  {
   "cell_type": "code",
   "execution_count": 21,
   "metadata": {
    "scrolled": true
   },
   "outputs": [
    {
     "data": {
      "text/plain": [
       "0"
      ]
     },
     "execution_count": 21,
     "metadata": {},
     "output_type": "execute_result"
    }
   ],
   "source": [
    "data.duplicated().sum()"
   ]
  },
  {
   "cell_type": "code",
   "execution_count": 22,
   "metadata": {
    "scrolled": true
   },
   "outputs": [],
   "source": [
    "#Dropping na values\n",
    "data.dropna(subset=categorical,inplace=True)"
   ]
  },
  {
   "cell_type": "code",
   "execution_count": 23,
   "metadata": {},
   "outputs": [
    {
     "data": {
      "text/plain": [
       "caseyear         0\n",
       "statename        0\n",
       "st_case          0\n",
       "veh_no           0\n",
       "vinyear          0\n",
       "vehtype_t        0\n",
       "vinmake_t        0\n",
       "vinmodel_t       0\n",
       "bodystyl_t       0\n",
       "doors            0\n",
       "wheels           0\n",
       "drivwhls         0\n",
       "mfg_t            0\n",
       "displci          0\n",
       "cylndrs          0\n",
       "fuel_t           0\n",
       "carbtype_t       0\n",
       "tiresz_f_t       0\n",
       "shipweight       0\n",
       "msrp             0\n",
       "drivetyp_t       0\n",
       "abs_t            0\n",
       "drl_t            0\n",
       "plntctry_t       0\n",
       "dispclmt        10\n",
       "enghead_t        0\n",
       "vlvclndr         0\n",
       "vlvtotal         0\n",
       "ve_forms         0\n",
       "per_no           0\n",
       "str_vehname      0\n",
       "makename         0\n",
       "rollovername     0\n",
       "per_typname      0\n",
       "dtype: int64"
      ]
     },
     "execution_count": 23,
     "metadata": {},
     "output_type": "execute_result"
    }
   ],
   "source": [
    "data.isnull().sum()"
   ]
  },
  {
   "cell_type": "code",
   "execution_count": 25,
   "metadata": {
    "scrolled": true
   },
   "outputs": [
    {
     "data": {
      "text/html": [
       "<div>\n",
       "<style scoped>\n",
       "    .dataframe tbody tr th:only-of-type {\n",
       "        vertical-align: middle;\n",
       "    }\n",
       "\n",
       "    .dataframe tbody tr th {\n",
       "        vertical-align: top;\n",
       "    }\n",
       "\n",
       "    .dataframe thead th {\n",
       "        text-align: right;\n",
       "    }\n",
       "</style>\n",
       "<table border=\"1\" class=\"dataframe\">\n",
       "  <thead>\n",
       "    <tr style=\"text-align: right;\">\n",
       "      <th></th>\n",
       "      <th>caseyear</th>\n",
       "      <th>st_case</th>\n",
       "      <th>veh_no</th>\n",
       "      <th>vinyear</th>\n",
       "      <th>doors</th>\n",
       "      <th>wheels</th>\n",
       "      <th>drivwhls</th>\n",
       "      <th>displci</th>\n",
       "      <th>shipweight</th>\n",
       "      <th>msrp</th>\n",
       "      <th>dispclmt</th>\n",
       "      <th>vlvclndr</th>\n",
       "      <th>vlvtotal</th>\n",
       "      <th>ve_forms</th>\n",
       "      <th>per_no</th>\n",
       "    </tr>\n",
       "  </thead>\n",
       "  <tbody>\n",
       "    <tr>\n",
       "      <th>count</th>\n",
       "      <td>61197.000000</td>\n",
       "      <td>61197.000000</td>\n",
       "      <td>61197.000000</td>\n",
       "      <td>61197.000000</td>\n",
       "      <td>61197.000000</td>\n",
       "      <td>61197.000000</td>\n",
       "      <td>61197.000000</td>\n",
       "      <td>61197.000000</td>\n",
       "      <td>61197.000000</td>\n",
       "      <td>61197.000000</td>\n",
       "      <td>61187.000000</td>\n",
       "      <td>61197.000000</td>\n",
       "      <td>61197.000000</td>\n",
       "      <td>61197.000000</td>\n",
       "      <td>61197.000000</td>\n",
       "    </tr>\n",
       "    <tr>\n",
       "      <th>mean</th>\n",
       "      <td>2016.007059</td>\n",
       "      <td>283544.214030</td>\n",
       "      <td>1.499355</td>\n",
       "      <td>2007.427439</td>\n",
       "      <td>3.705999</td>\n",
       "      <td>2.794189</td>\n",
       "      <td>1.922447</td>\n",
       "      <td>200.800758</td>\n",
       "      <td>3734.797703</td>\n",
       "      <td>27557.340964</td>\n",
       "      <td>3.294417</td>\n",
       "      <td>2.880223</td>\n",
       "      <td>16.016112</td>\n",
       "      <td>1.999575</td>\n",
       "      <td>1.000768</td>\n",
       "    </tr>\n",
       "    <tr>\n",
       "      <th>std</th>\n",
       "      <td>1.613512</td>\n",
       "      <td>158653.443807</td>\n",
       "      <td>1.270709</td>\n",
       "      <td>6.172040</td>\n",
       "      <td>0.710638</td>\n",
       "      <td>1.835570</td>\n",
       "      <td>1.500179</td>\n",
       "      <td>78.148986</td>\n",
       "      <td>1025.474632</td>\n",
       "      <td>12382.925730</td>\n",
       "      <td>1.277522</td>\n",
       "      <td>1.590126</td>\n",
       "      <td>8.965531</td>\n",
       "      <td>2.063411</td>\n",
       "      <td>0.039806</td>\n",
       "    </tr>\n",
       "    <tr>\n",
       "      <th>min</th>\n",
       "      <td>2014.000000</td>\n",
       "      <td>10001.000000</td>\n",
       "      <td>1.000000</td>\n",
       "      <td>1985.000000</td>\n",
       "      <td>0.000000</td>\n",
       "      <td>0.000000</td>\n",
       "      <td>0.000000</td>\n",
       "      <td>55.000000</td>\n",
       "      <td>0.000000</td>\n",
       "      <td>0.000000</td>\n",
       "      <td>0.900000</td>\n",
       "      <td>0.000000</td>\n",
       "      <td>0.000000</td>\n",
       "      <td>1.000000</td>\n",
       "      <td>1.000000</td>\n",
       "    </tr>\n",
       "    <tr>\n",
       "      <th>25%</th>\n",
       "      <td>2015.000000</td>\n",
       "      <td>130816.000000</td>\n",
       "      <td>1.000000</td>\n",
       "      <td>2003.000000</td>\n",
       "      <td>4.000000</td>\n",
       "      <td>0.000000</td>\n",
       "      <td>0.000000</td>\n",
       "      <td>144.000000</td>\n",
       "      <td>3108.000000</td>\n",
       "      <td>19680.000000</td>\n",
       "      <td>2.400000</td>\n",
       "      <td>2.000000</td>\n",
       "      <td>16.000000</td>\n",
       "      <td>1.000000</td>\n",
       "      <td>1.000000</td>\n",
       "    </tr>\n",
       "    <tr>\n",
       "      <th>50%</th>\n",
       "      <td>2016.000000</td>\n",
       "      <td>280465.000000</td>\n",
       "      <td>1.000000</td>\n",
       "      <td>2008.000000</td>\n",
       "      <td>4.000000</td>\n",
       "      <td>4.000000</td>\n",
       "      <td>2.000000</td>\n",
       "      <td>191.000000</td>\n",
       "      <td>3526.000000</td>\n",
       "      <td>25165.000000</td>\n",
       "      <td>3.100000</td>\n",
       "      <td>4.000000</td>\n",
       "      <td>16.000000</td>\n",
       "      <td>2.000000</td>\n",
       "      <td>1.000000</td>\n",
       "    </tr>\n",
       "    <tr>\n",
       "      <th>75%</th>\n",
       "      <td>2017.000000</td>\n",
       "      <td>420305.000000</td>\n",
       "      <td>2.000000</td>\n",
       "      <td>2013.000000</td>\n",
       "      <td>4.000000</td>\n",
       "      <td>4.000000</td>\n",
       "      <td>4.000000</td>\n",
       "      <td>232.000000</td>\n",
       "      <td>4229.000000</td>\n",
       "      <td>32595.000000</td>\n",
       "      <td>3.800000</td>\n",
       "      <td>4.000000</td>\n",
       "      <td>24.000000</td>\n",
       "      <td>2.000000</td>\n",
       "      <td>1.000000</td>\n",
       "    </tr>\n",
       "    <tr>\n",
       "      <th>max</th>\n",
       "      <td>2019.000000</td>\n",
       "      <td>560131.000000</td>\n",
       "      <td>63.000000</td>\n",
       "      <td>2019.000000</td>\n",
       "      <td>5.000000</td>\n",
       "      <td>4.000000</td>\n",
       "      <td>4.000000</td>\n",
       "      <td>512.000000</td>\n",
       "      <td>8687.000000</td>\n",
       "      <td>441600.000000</td>\n",
       "      <td>8.400000</td>\n",
       "      <td>16.000000</td>\n",
       "      <td>48.000000</td>\n",
       "      <td>64.000000</td>\n",
       "      <td>7.000000</td>\n",
       "    </tr>\n",
       "  </tbody>\n",
       "</table>\n",
       "</div>"
      ],
      "text/plain": [
       "           caseyear        st_case        veh_no       vinyear         doors  \\\n",
       "count  61197.000000   61197.000000  61197.000000  61197.000000  61197.000000   \n",
       "mean    2016.007059  283544.214030      1.499355   2007.427439      3.705999   \n",
       "std        1.613512  158653.443807      1.270709      6.172040      0.710638   \n",
       "min     2014.000000   10001.000000      1.000000   1985.000000      0.000000   \n",
       "25%     2015.000000  130816.000000      1.000000   2003.000000      4.000000   \n",
       "50%     2016.000000  280465.000000      1.000000   2008.000000      4.000000   \n",
       "75%     2017.000000  420305.000000      2.000000   2013.000000      4.000000   \n",
       "max     2019.000000  560131.000000     63.000000   2019.000000      5.000000   \n",
       "\n",
       "             wheels      drivwhls       displci    shipweight           msrp  \\\n",
       "count  61197.000000  61197.000000  61197.000000  61197.000000   61197.000000   \n",
       "mean       2.794189      1.922447    200.800758   3734.797703   27557.340964   \n",
       "std        1.835570      1.500179     78.148986   1025.474632   12382.925730   \n",
       "min        0.000000      0.000000     55.000000      0.000000       0.000000   \n",
       "25%        0.000000      0.000000    144.000000   3108.000000   19680.000000   \n",
       "50%        4.000000      2.000000    191.000000   3526.000000   25165.000000   \n",
       "75%        4.000000      4.000000    232.000000   4229.000000   32595.000000   \n",
       "max        4.000000      4.000000    512.000000   8687.000000  441600.000000   \n",
       "\n",
       "           dispclmt      vlvclndr      vlvtotal      ve_forms        per_no  \n",
       "count  61187.000000  61197.000000  61197.000000  61197.000000  61197.000000  \n",
       "mean       3.294417      2.880223     16.016112      1.999575      1.000768  \n",
       "std        1.277522      1.590126      8.965531      2.063411      0.039806  \n",
       "min        0.900000      0.000000      0.000000      1.000000      1.000000  \n",
       "25%        2.400000      2.000000     16.000000      1.000000      1.000000  \n",
       "50%        3.100000      4.000000     16.000000      2.000000      1.000000  \n",
       "75%        3.800000      4.000000     24.000000      2.000000      1.000000  \n",
       "max        8.400000     16.000000     48.000000     64.000000      7.000000  "
      ]
     },
     "execution_count": 25,
     "metadata": {},
     "output_type": "execute_result"
    }
   ],
   "source": [
    "data.describe()"
   ]
  },
  {
   "cell_type": "code",
   "execution_count": 26,
   "metadata": {
    "scrolled": true
   },
   "outputs": [
    {
     "data": {
      "text/plain": [
       "Passenger Car    33731\n",
       "Truck            27466\n",
       "Name: vehtype_t, dtype: int64"
      ]
     },
     "execution_count": 26,
     "metadata": {},
     "output_type": "execute_result"
    }
   ],
   "source": [
    "data['vehtype_t'].value_counts()"
   ]
  },
  {
   "cell_type": "code",
   "execution_count": 27,
   "metadata": {},
   "outputs": [
    {
     "data": {
      "text/plain": [
       "No Rollover                            51552\n",
       "Rollover, Tripped by Object/Vehicle     8158\n",
       "Rollover, Untripped                     1042\n",
       "Rollover, Unknown Type                   445\n",
       "Name: rollovername, dtype: int64"
      ]
     },
     "execution_count": 27,
     "metadata": {},
     "output_type": "execute_result"
    }
   ],
   "source": [
    "data['rollovername'].value_counts()"
   ]
  },
  {
   "cell_type": "markdown",
   "metadata": {},
   "source": [
    "#  Part-3: Data Cleaning and Feature Engineering"
   ]
  },
  {
   "cell_type": "markdown",
   "metadata": {},
   "source": [
    "### 3.1. Handling with Missing Values: Dropping and/or Imputation\n",
    "> You may drop some rows and columns.<br>\n",
    "> Imputation with statistical values (mean, median, mode)<br>\n",
    "> Imputation with a keyword like missing, unknown, etc.<br>"
   ]
  },
  {
   "cell_type": "code",
   "execution_count": 28,
   "metadata": {},
   "outputs": [],
   "source": [
    "# YOUR CODE HERE"
   ]
  },
  {
   "cell_type": "markdown",
   "metadata": {},
   "source": [
    "### 3.2. Reducing cardinality of categorical features \n",
    "> Some categorical features have a cardinality which will cause to have lots of dummy variables. <br>\n",
    "> Therefore, it is certainly needed to do some operations on that features. You may even consider dropping some of them. <br>\n",
    "> Be aware of some risk of information loss caused by operations done in this part.<br>\n",
    "> **Hint**: There are 37 different values for *bodystyl_t* feature which means vehicle body type. You can map the values into some higher level categories like [TRUCK, VAN, BUS, SPORT, STANDARD, OTHER, ...]. <br>\n",
    "> You can also utilize [FARS User’s Manual](https://crashstats.nhtsa.dot.gov/Api/Public/ViewPublication/813023) for this step."
   ]
  },
  {
   "cell_type": "markdown",
   "metadata": {},
   "source": [
    "# From now on I am just reducing the cardinality I decided a threshold for each column that I reduced cardinality"
   ]
  },
  {
   "cell_type": "markdown",
   "metadata": {},
   "source": [
    "# I replaced other categories with name 'OTHER'"
   ]
  },
  {
   "cell_type": "code",
   "execution_count": 29,
   "metadata": {
    "scrolled": true
   },
   "outputs": [
    {
     "name": "stdout",
     "output_type": "stream",
     "text": [
      "<class 'pandas.core.frame.DataFrame'>\n",
      "Int64Index: 61197 entries, 0 to 439290\n",
      "Data columns (total 18 columns):\n",
      " #   Column       Non-Null Count  Dtype \n",
      "---  ------       --------------  ----- \n",
      " 0   statename    61197 non-null  object\n",
      " 1   vehtype_t    61197 non-null  object\n",
      " 2   vinmake_t    61197 non-null  object\n",
      " 3   vinmodel_t   61197 non-null  object\n",
      " 4   bodystyl_t   61197 non-null  object\n",
      " 5   mfg_t        61197 non-null  object\n",
      " 6   cylndrs      61197 non-null  object\n",
      " 7   fuel_t       61197 non-null  object\n",
      " 8   carbtype_t   61197 non-null  object\n",
      " 9   tiresz_f_t   61197 non-null  object\n",
      " 10  drivetyp_t   61197 non-null  object\n",
      " 11  abs_t        61197 non-null  object\n",
      " 12  drl_t        61197 non-null  object\n",
      " 13  plntctry_t   61197 non-null  object\n",
      " 14  enghead_t    61197 non-null  object\n",
      " 15  str_vehname  61197 non-null  object\n",
      " 16  makename     61197 non-null  object\n",
      " 17  per_typname  61197 non-null  object\n",
      "dtypes: object(18)\n",
      "memory usage: 8.9+ MB\n"
     ]
    }
   ],
   "source": [
    "# YOUR CODE HERE\n",
    "data[categorical].info()"
   ]
  },
  {
   "cell_type": "code",
   "execution_count": 30,
   "metadata": {
    "scrolled": false
   },
   "outputs": [
    {
     "data": {
      "text/html": [
       "<div>\n",
       "<style scoped>\n",
       "    .dataframe tbody tr th:only-of-type {\n",
       "        vertical-align: middle;\n",
       "    }\n",
       "\n",
       "    .dataframe tbody tr th {\n",
       "        vertical-align: top;\n",
       "    }\n",
       "\n",
       "    .dataframe thead th {\n",
       "        text-align: right;\n",
       "    }\n",
       "</style>\n",
       "<table border=\"1\" class=\"dataframe\">\n",
       "  <thead>\n",
       "    <tr style=\"text-align: right;\">\n",
       "      <th></th>\n",
       "      <th>statename</th>\n",
       "      <th>vehtype_t</th>\n",
       "      <th>vinmake_t</th>\n",
       "      <th>vinmodel_t</th>\n",
       "      <th>bodystyl_t</th>\n",
       "      <th>mfg_t</th>\n",
       "      <th>cylndrs</th>\n",
       "      <th>fuel_t</th>\n",
       "      <th>carbtype_t</th>\n",
       "      <th>tiresz_f_t</th>\n",
       "      <th>drivetyp_t</th>\n",
       "      <th>abs_t</th>\n",
       "      <th>drl_t</th>\n",
       "      <th>plntctry_t</th>\n",
       "      <th>enghead_t</th>\n",
       "      <th>str_vehname</th>\n",
       "      <th>makename</th>\n",
       "      <th>per_typname</th>\n",
       "    </tr>\n",
       "  </thead>\n",
       "  <tbody>\n",
       "    <tr>\n",
       "      <th>count</th>\n",
       "      <td>61197</td>\n",
       "      <td>61197</td>\n",
       "      <td>61197</td>\n",
       "      <td>61197</td>\n",
       "      <td>61197</td>\n",
       "      <td>61197</td>\n",
       "      <td>61197</td>\n",
       "      <td>61197</td>\n",
       "      <td>61197</td>\n",
       "      <td>61197</td>\n",
       "      <td>61197</td>\n",
       "      <td>61197</td>\n",
       "      <td>61197</td>\n",
       "      <td>61197</td>\n",
       "      <td>61197</td>\n",
       "      <td>61197</td>\n",
       "      <td>61197</td>\n",
       "      <td>61197</td>\n",
       "    </tr>\n",
       "    <tr>\n",
       "      <th>unique</th>\n",
       "      <td>52</td>\n",
       "      <td>2</td>\n",
       "      <td>53</td>\n",
       "      <td>690</td>\n",
       "      <td>31</td>\n",
       "      <td>42</td>\n",
       "      <td>18</td>\n",
       "      <td>7</td>\n",
       "      <td>3</td>\n",
       "      <td>72</td>\n",
       "      <td>6</td>\n",
       "      <td>7</td>\n",
       "      <td>5</td>\n",
       "      <td>30</td>\n",
       "      <td>3</td>\n",
       "      <td>1</td>\n",
       "      <td>50</td>\n",
       "      <td>1</td>\n",
       "    </tr>\n",
       "    <tr>\n",
       "      <th>top</th>\n",
       "      <td>California</td>\n",
       "      <td>Passenger Car</td>\n",
       "      <td>FORD</td>\n",
       "      <td>ACCORD</td>\n",
       "      <td>SEDAN</td>\n",
       "      <td>General Motors</td>\n",
       "      <td>6</td>\n",
       "      <td>Gas</td>\n",
       "      <td>Fuel Injection</td>\n",
       "      <td>16R205</td>\n",
       "      <td>Front Wheel Drive</td>\n",
       "      <td>All Wheel Std</td>\n",
       "      <td>Standard</td>\n",
       "      <td>United States</td>\n",
       "      <td>Double Overhead Camshaft</td>\n",
       "      <td>Occupant of a Motor Vehicle</td>\n",
       "      <td>Ford</td>\n",
       "      <td>Driver of a Motor Vehicle In-Transport</td>\n",
       "    </tr>\n",
       "    <tr>\n",
       "      <th>freq</th>\n",
       "      <td>3698</td>\n",
       "      <td>33731</td>\n",
       "      <td>8452</td>\n",
       "      <td>1777</td>\n",
       "      <td>17918</td>\n",
       "      <td>10438</td>\n",
       "      <td>22951</td>\n",
       "      <td>53002</td>\n",
       "      <td>61190</td>\n",
       "      <td>4728</td>\n",
       "      <td>31897</td>\n",
       "      <td>51258</td>\n",
       "      <td>27001</td>\n",
       "      <td>32781</td>\n",
       "      <td>39711</td>\n",
       "      <td>61197</td>\n",
       "      <td>8451</td>\n",
       "      <td>61197</td>\n",
       "    </tr>\n",
       "  </tbody>\n",
       "</table>\n",
       "</div>"
      ],
      "text/plain": [
       "         statename      vehtype_t vinmake_t vinmodel_t bodystyl_t  \\\n",
       "count        61197          61197     61197      61197      61197   \n",
       "unique          52              2        53        690         31   \n",
       "top     California  Passenger Car      FORD     ACCORD      SEDAN   \n",
       "freq          3698          33731      8452       1777      17918   \n",
       "\n",
       "                 mfg_t cylndrs fuel_t      carbtype_t tiresz_f_t  \\\n",
       "count            61197   61197  61197           61197      61197   \n",
       "unique              42      18      7               3         72   \n",
       "top     General Motors       6    Gas  Fuel Injection     16R205   \n",
       "freq             10438   22951  53002           61190       4728   \n",
       "\n",
       "               drivetyp_t          abs_t     drl_t     plntctry_t  \\\n",
       "count               61197          61197     61197          61197   \n",
       "unique                  6              7         5             30   \n",
       "top     Front Wheel Drive  All Wheel Std  Standard  United States   \n",
       "freq                31897          51258     27001          32781   \n",
       "\n",
       "                       enghead_t                  str_vehname makename  \\\n",
       "count                      61197                        61197    61197   \n",
       "unique                         3                            1       50   \n",
       "top     Double Overhead Camshaft  Occupant of a Motor Vehicle     Ford   \n",
       "freq                       39711                        61197     8451   \n",
       "\n",
       "                                   per_typname  \n",
       "count                                    61197  \n",
       "unique                                       1  \n",
       "top     Driver of a Motor Vehicle In-Transport  \n",
       "freq                                     61197  "
      ]
     },
     "execution_count": 30,
     "metadata": {},
     "output_type": "execute_result"
    }
   ],
   "source": [
    "data[categorical].describe()"
   ]
  },
  {
   "cell_type": "code",
   "execution_count": 31,
   "metadata": {},
   "outputs": [],
   "source": [
    "# Making it upper to stack our variables\n",
    "data['cylndrs'] = data['cylndrs'].str.upper()"
   ]
  },
  {
   "cell_type": "code",
   "execution_count": 32,
   "metadata": {
    "scrolled": false
   },
   "outputs": [
    {
     "data": {
      "text/plain": [
       "6    22951\n",
       "4    21530\n",
       "8    10467\n",
       "Name: cylndrs, dtype: int64"
      ]
     },
     "execution_count": 32,
     "metadata": {},
     "output_type": "execute_result"
    }
   ],
   "source": [
    "data['cylndrs'].value_counts().loc[lambda x : x >=8000]"
   ]
  },
  {
   "cell_type": "code",
   "execution_count": 33,
   "metadata": {},
   "outputs": [],
   "source": [
    "data['plntctry_t'] = data['plntctry_t'].str.upper()"
   ]
  },
  {
   "cell_type": "code",
   "execution_count": 34,
   "metadata": {
    "scrolled": true
   },
   "outputs": [
    {
     "data": {
      "text/plain": [
       "UNITED STATES                             32781\n",
       "JAPAN                                      8488\n",
       "CANADA                                     6953\n",
       "MEXICO                                     4854\n",
       "GERMANY                                    2756\n",
       "KOREA, REPUBLIC OF                         2003\n",
       "KOREA, DEMOCRATIC PEOPLE'S REPUBLIC OF     1370\n",
       "Name: plntctry_t, dtype: int64"
      ]
     },
     "execution_count": 34,
     "metadata": {},
     "output_type": "execute_result"
    }
   ],
   "source": [
    "## threshold is 1000 here\n",
    "data['plntctry_t'].value_counts().loc[lambda x : x >=1000]"
   ]
  },
  {
   "cell_type": "code",
   "execution_count": 35,
   "metadata": {},
   "outputs": [],
   "source": [
    "data['tiresz_f_t'] = data['tiresz_f_t'].str.upper()"
   ]
  },
  {
   "cell_type": "code",
   "execution_count": 36,
   "metadata": {
    "scrolled": true
   },
   "outputs": [
    {
     "data": {
      "text/plain": [
       "16R205    4728\n",
       "17R225    4518\n",
       "16R215    4405\n",
       "15R205    3886\n",
       "15R195    3846\n",
       "16R225    3758\n",
       "17R215    3486\n",
       "17R265    2695\n",
       "17R245    2629\n",
       "Name: tiresz_f_t, dtype: int64"
      ]
     },
     "execution_count": 36,
     "metadata": {},
     "output_type": "execute_result"
    }
   ],
   "source": [
    "data['tiresz_f_t'].value_counts().loc[lambda x : x >=2600]"
   ]
  },
  {
   "cell_type": "code",
   "execution_count": 37,
   "metadata": {},
   "outputs": [],
   "source": [
    "data['vinmake_t'] = data['vinmake_t'].str.upper()"
   ]
  },
  {
   "cell_type": "code",
   "execution_count": 38,
   "metadata": {
    "scrolled": false
   },
   "outputs": [
    {
     "data": {
      "text/plain": [
       "FORD         8452\n",
       "CHEVROLET    7849\n",
       "TOYOTA       5327\n",
       "HONDA        4219\n",
       "DODGE        4214\n",
       "NISSAN       3567\n",
       "CHRYSLER     2274\n",
       "HYUNDAI      2031\n",
       "KIA          1995\n",
       "Name: vinmake_t, dtype: int64"
      ]
     },
     "execution_count": 38,
     "metadata": {},
     "output_type": "execute_result"
    }
   ],
   "source": [
    "data['vinmake_t'].value_counts().loc[lambda x : x >=1800]"
   ]
  },
  {
   "cell_type": "code",
   "execution_count": 39,
   "metadata": {},
   "outputs": [],
   "source": [
    "data['mfg_t'] = data['mfg_t'].str.upper()"
   ]
  },
  {
   "cell_type": "code",
   "execution_count": 40,
   "metadata": {},
   "outputs": [
    {
     "data": {
      "text/plain": [
       "GENERAL MOTORS        13559\n",
       "FORD                  11837\n",
       "TOYOTA                 6183\n",
       "CHRYSLER GROUP LLC     5379\n",
       "HONDA                  5185\n",
       "NISSAN                 4346\n",
       "FCA                    2195\n",
       "HYUNDAI                2034\n",
       "KIA                    2001\n",
       "DAIMLER-CHRYSLER       1978\n",
       "BMW                    1683\n",
       "VOLKSWAGEN             1356\n",
       "SUBARU                 1228\n",
       "MITSUBISHI              888\n",
       "Name: mfg_t, dtype: int64"
      ]
     },
     "execution_count": 40,
     "metadata": {},
     "output_type": "execute_result"
    }
   ],
   "source": [
    "data['mfg_t'].value_counts().loc[lambda x : x >= 845]"
   ]
  },
  {
   "cell_type": "code",
   "execution_count": 41,
   "metadata": {},
   "outputs": [],
   "source": [
    "data['bodystyl_t'] = data['bodystyl_t'].str.upper()"
   ]
  },
  {
   "cell_type": "code",
   "execution_count": 42,
   "metadata": {},
   "outputs": [
    {
     "data": {
      "text/plain": [
       "SEDAN                    23670\n",
       "SPORT UTILITY VEHICLE    17760\n",
       "Name: bodystyl_t, dtype: int64"
      ]
     },
     "execution_count": 42,
     "metadata": {},
     "output_type": "execute_result"
    }
   ],
   "source": [
    "data['bodystyl_t'].value_counts().loc[lambda x : x >= 9000]"
   ]
  },
  {
   "cell_type": "code",
   "execution_count": 43,
   "metadata": {},
   "outputs": [],
   "source": [
    "data['statename'] = data['statename'].str.upper()"
   ]
  },
  {
   "cell_type": "code",
   "execution_count": 44,
   "metadata": {},
   "outputs": [
    {
     "data": {
      "text/plain": [
       "CALIFORNIA    3698\n",
       "TEXAS         3521\n",
       "Name: statename, dtype: int64"
      ]
     },
     "execution_count": 44,
     "metadata": {},
     "output_type": "execute_result"
    }
   ],
   "source": [
    "data['statename'].value_counts().loc[lambda x : x >=3300]"
   ]
  },
  {
   "cell_type": "code",
   "execution_count": 45,
   "metadata": {},
   "outputs": [],
   "source": [
    "data['makename'] = data['makename'].str.upper()"
   ]
  },
  {
   "cell_type": "code",
   "execution_count": 46,
   "metadata": {},
   "outputs": [
    {
     "data": {
      "text/plain": [
       "FORD             8451\n",
       "CHEVROLET        7860\n",
       "TOYOTA           5224\n",
       "DODGE            4967\n",
       "HONDA            4217\n",
       "CHRYSLER         2278\n",
       "NISSAN/DATSUN    2080\n",
       "HYUNDAI          2040\n",
       "KIA              1995\n",
       "Name: makename, dtype: int64"
      ]
     },
     "execution_count": 46,
     "metadata": {},
     "output_type": "execute_result"
    }
   ],
   "source": [
    "data['makename'].value_counts().loc[lambda x : x >=1700]"
   ]
  },
  {
   "cell_type": "code",
   "execution_count": 47,
   "metadata": {
    "scrolled": true
   },
   "outputs": [
    {
     "data": {
      "text/plain": [
       "ACCORD       1777\n",
       "SILVERADO    1171\n",
       "EXPLORER     1090\n",
       "FOCUS         937\n",
       "Name: vinmodel_t, dtype: int64"
      ]
     },
     "execution_count": 47,
     "metadata": {},
     "output_type": "execute_result"
    }
   ],
   "source": [
    "data['vinmodel_t'].value_counts().loc[lambda x : x >=900]"
   ]
  },
  {
   "cell_type": "code",
   "execution_count": 48,
   "metadata": {},
   "outputs": [],
   "source": [
    "data['bodystyl_t'] = data['bodystyl_t'].str.upper()"
   ]
  },
  {
   "cell_type": "code",
   "execution_count": 49,
   "metadata": {},
   "outputs": [
    {
     "data": {
      "text/plain": [
       "SEDAN                    23670\n",
       "SPORT UTILITY VEHICLE    17760\n",
       "PICKUP                    5219\n",
       "COUPE                     4420\n",
       "HATCHBACK                 3338\n",
       "VAN PASSENGER             3013\n",
       "CONVERTIBLE               1339\n",
       "Name: bodystyl_t, dtype: int64"
      ]
     },
     "execution_count": 49,
     "metadata": {},
     "output_type": "execute_result"
    }
   ],
   "source": [
    "data['bodystyl_t'].value_counts().loc[lambda x : x >=1000]"
   ]
  },
  {
   "cell_type": "code",
   "execution_count": 50,
   "metadata": {},
   "outputs": [],
   "source": [
    "top = [\n",
    "    'SILVERADO', 'F150', 'MALIBU', 'FUSION', 'FOCUS', 'SIERRA','FOCUS','CIVIC'\n",
    "]"
   ]
  },
  {
   "cell_type": "code",
   "execution_count": 51,
   "metadata": {},
   "outputs": [],
   "source": [
    "top_mfg = ['GENERAL MOTORS','FORD','CHRYSLER GROUP LLC','FCA','HONDA','HYUNDAI','TOYOTA','KIA','VOLKSWAGEN']"
   ]
  },
  {
   "cell_type": "code",
   "execution_count": 52,
   "metadata": {},
   "outputs": [],
   "source": [
    "top_makename = ['CHEVROLET','FORD','DODGE','HYUNDAI','TOYOTA']"
   ]
  },
  {
   "cell_type": "code",
   "execution_count": 53,
   "metadata": {},
   "outputs": [],
   "source": [
    "top_state = ['TEXAS','FLORIDA','CALIFORNIA']"
   ]
  },
  {
   "cell_type": "code",
   "execution_count": 54,
   "metadata": {},
   "outputs": [],
   "source": [
    "top_body = ['SEDAN','SPORT UTILITY VEHICLE','PICKUP']"
   ]
  },
  {
   "cell_type": "code",
   "execution_count": 55,
   "metadata": {},
   "outputs": [],
   "source": [
    "top_vinmake = ['FORD','CHEVROLET','DODGE','HONDA','JEEP']"
   ]
  },
  {
   "cell_type": "code",
   "execution_count": 56,
   "metadata": {},
   "outputs": [],
   "source": [
    "top_tire = ['17R225', '17R265', '17R215', '16R205', '17R245']"
   ]
  },
  {
   "cell_type": "code",
   "execution_count": 57,
   "metadata": {},
   "outputs": [],
   "source": [
    "top_plnt  = ['UNITED STATES','CANADA','MEXICO','JAPAN','KOREA, REPUBLIC OF','GERMANY']"
   ]
  },
  {
   "cell_type": "code",
   "execution_count": 58,
   "metadata": {},
   "outputs": [],
   "source": [
    "top_clyndr = ['4','6','8']"
   ]
  },
  {
   "cell_type": "code",
   "execution_count": 59,
   "metadata": {},
   "outputs": [],
   "source": [
    "data.loc[(data.cylndrs != top_clyndr[0]) & (data.cylndrs != top_clyndr[1]) &\n",
    "         (data.cylndrs != top_clyndr[2]), 'cylndrs'] = 'OTHER'"
   ]
  },
  {
   "cell_type": "code",
   "execution_count": 60,
   "metadata": {},
   "outputs": [],
   "source": [
    "data.loc[(data.plntctry_t != top_plnt[0]) & (data.plntctry_t != top_plnt[1]) &\n",
    "         (data.plntctry_t != top_plnt[2]) & (data.plntctry_t != top_plnt[3]) &\n",
    "         (data.plntctry_t != top_plnt[4]) & (data.plntctry_t != top_plnt[5]),\n",
    "         'plntctry_t'] = 'OTHER'"
   ]
  },
  {
   "cell_type": "code",
   "execution_count": 61,
   "metadata": {},
   "outputs": [],
   "source": [
    "data.loc[(data.vinmake_t != top_vinmake[0])\n",
    "         & (data.vinmake_t != top_vinmake[1]) &\n",
    "         (data.vinmake_t != top_vinmake[2]) &\n",
    "         (data.vinmake_t != top_vinmake[3]) &\n",
    "         (data.vinmake_t != top_vinmake[4]),\n",
    "         'vinmake_t'] = 'OTHER'"
   ]
  },
  {
   "cell_type": "code",
   "execution_count": 62,
   "metadata": {},
   "outputs": [],
   "source": [
    "data.loc[(data.tiresz_f_t != top_tire[0])\n",
    "         & (data.tiresz_f_t != top_tire[1]) & (data.tiresz_f_t != top_tire[2])\n",
    "         & (data.tiresz_f_t != top_tire[3]) & (data.tiresz_f_t != top_tire[4]),\n",
    "         'tiresz_f_t'] = 'OTHER'"
   ]
  },
  {
   "cell_type": "code",
   "execution_count": 63,
   "metadata": {},
   "outputs": [],
   "source": [
    "data.loc[(data.vinmodel_t != top[0]) & (data.vinmodel_t != top[1]) &\n",
    "         (data.vinmodel_t != top[2]) & (data.vinmodel_t != top[3]) &\n",
    "         (data.vinmodel_t != top[4]) & (data.vinmodel_t != top[5]) &\n",
    "         (data.vinmodel_t != top[6]), 'vinmodel_t'] = 'OTHER'"
   ]
  },
  {
   "cell_type": "code",
   "execution_count": 64,
   "metadata": {},
   "outputs": [],
   "source": [
    "data.loc[(data.statename != top_state[0]) & (data.statename != top_state[1]) &\n",
    "         (data.statename != top_state[2]), 'statename'] = 'OTHER'"
   ]
  },
  {
   "cell_type": "code",
   "execution_count": 65,
   "metadata": {},
   "outputs": [],
   "source": [
    "data.loc[(data.makename != top_makename[0]) &\n",
    "         (data.makename != top_makename[1]) &\n",
    "         (data.makename != top_makename[2]) &\n",
    "         (data.makename != top_makename[3]) &\n",
    "         (data.makename != top_makename[4]), 'makename'] = 'OTHER'"
   ]
  },
  {
   "cell_type": "code",
   "execution_count": 66,
   "metadata": {},
   "outputs": [],
   "source": [
    "data.loc[(data.mfg_t != top_mfg[0]) &\n",
    "         (data.mfg_t != top_mfg[1]) &\n",
    "         (data.mfg_t != top_mfg[2]) &\n",
    "         (data.mfg_t != top_mfg[3]) &\n",
    "         (data.mfg_t != top_mfg[4]) &\n",
    "         (data.mfg_t != top_mfg[5]), 'mfg_t'] = 'OTHER'"
   ]
  },
  {
   "cell_type": "code",
   "execution_count": 67,
   "metadata": {},
   "outputs": [],
   "source": [
    "data.loc[(data.bodystyl_t != top_body[0]) & (data.bodystyl_t != top_body[1]) &\n",
    "         (data.bodystyl_t != top_body[2]), 'bodystyl_t'] = 'OTHER'"
   ]
  },
  {
   "cell_type": "code",
   "execution_count": 68,
   "metadata": {
    "scrolled": false
   },
   "outputs": [
    {
     "data": {
      "text/plain": [
       "OTHER        56587\n",
       "SILVERADO     1171\n",
       "FOCUS          937\n",
       "F150           844\n",
       "SIERRA         628\n",
       "MALIBU         561\n",
       "FUSION         469\n",
       "Name: vinmodel_t, dtype: int64"
      ]
     },
     "execution_count": 68,
     "metadata": {},
     "output_type": "execute_result"
    }
   ],
   "source": [
    "data['vinmodel_t'].value_counts()"
   ]
  },
  {
   "cell_type": "code",
   "execution_count": 69,
   "metadata": {
    "scrolled": true
   },
   "outputs": [
    {
     "data": {
      "text/plain": [
       "OTHER         50681\n",
       "CALIFORNIA     3698\n",
       "TEXAS          3521\n",
       "FLORIDA        3297\n",
       "Name: statename, dtype: int64"
      ]
     },
     "execution_count": 69,
     "metadata": {},
     "output_type": "execute_result"
    }
   ],
   "source": [
    "data['statename'].value_counts()"
   ]
  },
  {
   "cell_type": "code",
   "execution_count": 70,
   "metadata": {
    "scrolled": true
   },
   "outputs": [
    {
     "data": {
      "text/plain": [
       "OTHER        32655\n",
       "FORD          8451\n",
       "CHEVROLET     7860\n",
       "TOYOTA        5224\n",
       "DODGE         4967\n",
       "HYUNDAI       2040\n",
       "Name: makename, dtype: int64"
      ]
     },
     "execution_count": 70,
     "metadata": {},
     "output_type": "execute_result"
    }
   ],
   "source": [
    "data['makename'].value_counts()"
   ]
  },
  {
   "cell_type": "code",
   "execution_count": 71,
   "metadata": {
    "scrolled": true
   },
   "outputs": [
    {
     "data": {
      "text/plain": [
       "OTHER                 21008\n",
       "GENERAL MOTORS        13559\n",
       "FORD                  11837\n",
       "CHRYSLER GROUP LLC     5379\n",
       "HONDA                  5185\n",
       "FCA                    2195\n",
       "HYUNDAI                2034\n",
       "Name: mfg_t, dtype: int64"
      ]
     },
     "execution_count": 71,
     "metadata": {},
     "output_type": "execute_result"
    }
   ],
   "source": [
    "data['mfg_t'].value_counts()"
   ]
  },
  {
   "cell_type": "code",
   "execution_count": 72,
   "metadata": {},
   "outputs": [
    {
     "data": {
      "text/plain": [
       "SEDAN                    23670\n",
       "SPORT UTILITY VEHICLE    17760\n",
       "OTHER                    14548\n",
       "PICKUP                    5219\n",
       "Name: bodystyl_t, dtype: int64"
      ]
     },
     "execution_count": 72,
     "metadata": {},
     "output_type": "execute_result"
    }
   ],
   "source": [
    "data['bodystyl_t'].value_counts()"
   ]
  },
  {
   "cell_type": "code",
   "execution_count": 73,
   "metadata": {},
   "outputs": [
    {
     "name": "stdout",
     "output_type": "stream",
     "text": [
      "<class 'pandas.core.frame.DataFrame'>\n",
      "Int64Index: 61197 entries, 0 to 439290\n",
      "Data columns (total 18 columns):\n",
      " #   Column       Non-Null Count  Dtype \n",
      "---  ------       --------------  ----- \n",
      " 0   statename    61197 non-null  object\n",
      " 1   vehtype_t    61197 non-null  object\n",
      " 2   vinmake_t    61197 non-null  object\n",
      " 3   vinmodel_t   61197 non-null  object\n",
      " 4   bodystyl_t   61197 non-null  object\n",
      " 5   mfg_t        61197 non-null  object\n",
      " 6   cylndrs      61197 non-null  object\n",
      " 7   fuel_t       61197 non-null  object\n",
      " 8   carbtype_t   61197 non-null  object\n",
      " 9   tiresz_f_t   61197 non-null  object\n",
      " 10  drivetyp_t   61197 non-null  object\n",
      " 11  abs_t        61197 non-null  object\n",
      " 12  drl_t        61197 non-null  object\n",
      " 13  plntctry_t   61197 non-null  object\n",
      " 14  enghead_t    61197 non-null  object\n",
      " 15  str_vehname  61197 non-null  object\n",
      " 16  makename     61197 non-null  object\n",
      " 17  per_typname  61197 non-null  object\n",
      "dtypes: object(18)\n",
      "memory usage: 8.9+ MB\n"
     ]
    }
   ],
   "source": [
    "data[categorical].info()"
   ]
  },
  {
   "cell_type": "code",
   "execution_count": 74,
   "metadata": {
    "scrolled": false
   },
   "outputs": [],
   "source": [
    "# Dropping for numerics\n",
    "data = data.dropna()"
   ]
  },
  {
   "cell_type": "markdown",
   "metadata": {},
   "source": [
    "### BONUS: 3.3. Identifying and handling with outliers \n",
    "(not required, might help for linear and probabilistic models, be aware of the risk of information loss) "
   ]
  },
  {
   "cell_type": "code",
   "execution_count": 75,
   "metadata": {},
   "outputs": [],
   "source": [
    "# YOUR CODE HERE"
   ]
  },
  {
   "cell_type": "markdown",
   "metadata": {},
   "source": [
    "> You may want to repeat some parts of EDA for the processed data at the end of this part, so, you may review your insights from the data to serve for the feature selection."
   ]
  },
  {
   "cell_type": "markdown",
   "metadata": {},
   "source": [
    "#  Part-4: Data Splitting and Transformation\n",
    "> Firstly, split your data into training and test datasets before the data transformation. <br>\n",
    "Then, scale numerical features and encode categorical features based on the training dataset.\n",
    "\n",
    "To split the dataset, which of the following strategies is better?:\n",
    "\n",
    "(1) Using accidents in 2019 for testing. <br>\n",
    "(2) Getting random 30% of data for testing.\n",
    "\n",
    "Which choice you selected will not matter for grading, but, how you choose it matters for the learning task. Think about which testing approach is more reasonable/meaningful regarding to create a business value. \n",
    "\n",
    "**Note:** If you have included year as a feature and you select (1), you should scale it properly for testing dataset. <br>"
   ]
  },
  {
   "cell_type": "code",
   "execution_count": 76,
   "metadata": {},
   "outputs": [],
   "source": [
    "# Data splitting\n",
    "y = data[target_name]\n",
    "x = pd.get_dummies(data[features])"
   ]
  },
  {
   "cell_type": "code",
   "execution_count": 77,
   "metadata": {},
   "outputs": [],
   "source": [
    "#YOUR CODE HERE (Selected 2)\n",
    "x_train,x_test,y_train,y_test = train_test_split(x,y,test_size=0.30,random_state = 42)"
   ]
  },
  {
   "cell_type": "code",
   "execution_count": 78,
   "metadata": {},
   "outputs": [],
   "source": [
    "# Scaling\n",
    "scaler = MinMaxScaler(feature_range=(0,1))\n",
    "scaled_x_train = scaler.fit_transform(x_train)\n",
    "scaled_x_test = scaler.transform(x_test) "
   ]
  },
  {
   "cell_type": "code",
   "execution_count": 79,
   "metadata": {},
   "outputs": [
    {
     "data": {
      "text/plain": [
       "array([[0.73529412, 0.8       , 1.        , ..., 0.        , 0.        ,\n",
       "        0.        ],\n",
       "       [0.26470588, 0.8       , 0.        , ..., 0.        , 0.        ,\n",
       "        0.        ],\n",
       "       [0.47058824, 0.8       , 1.        , ..., 0.        , 0.        ,\n",
       "        0.        ],\n",
       "       ...,\n",
       "       [0.5       , 0.8       , 0.        , ..., 0.        , 0.        ,\n",
       "        0.        ],\n",
       "       [0.73529412, 0.8       , 1.        , ..., 1.        , 0.        ,\n",
       "        0.        ],\n",
       "       [0.79411765, 0.8       , 1.        , ..., 0.        , 0.        ,\n",
       "        0.        ]])"
      ]
     },
     "execution_count": 79,
     "metadata": {},
     "output_type": "execute_result"
    }
   ],
   "source": [
    "scaled_x_train"
   ]
  },
  {
   "cell_type": "markdown",
   "metadata": {},
   "source": [
    "#  Part-5: Feature Selection\n",
    "\n",
    "> You are required to present **at most 30** useful features at the end of the project.<br>\n",
    "> It is not required to have 30 features before training. You should eliminate some features before and after the data learning phase to report at the end. <br>\n",
    "> So, you need to select one or multiple feature subsets to experiment ML models.<br>\n",
    "> It is worthy to note that you are not encouraged to be minimalistic (like using 5 features) while the selection because it might sacrifice some learning performance. But maybe only 5 features can be useful, it is unknown for now and it will turn out with your selection approach.\n",
    "\n",
    "You can either select features manually and/or in an automated way.\n",
    "If you deploy an automated feature selection method, you **must explain how it works** in the report.\n",
    "\n",
    "Some manual ways: Thresholding correlations, multicollinearity inspection, considering value distributions with respect to the target variable, finding non-informative features, ...\n",
    "\n",
    "Some automated ways: \n",
    "- selecting the best k variables based on a statistical score \n",
    "- forward/backward/recursive feature elimination\n",
    "- identifying important features using a decision-tree based model"
   ]
  },
  {
   "cell_type": "code",
   "execution_count": 80,
   "metadata": {
    "scrolled": true
   },
   "outputs": [
    {
     "name": "stdout",
     "output_type": "stream",
     "text": [
      "                                 Specs         Score\n",
      "6                                 msrp  79655.537166\n",
      "4                              displci   3073.921533\n",
      "10                            ve_forms   2500.517103\n",
      "9                             vlvtotal   1463.021152\n",
      "8                             vlvclndr    518.529034\n",
      "67   drivetyp_t_Rear Wheel Drive w/4x4    213.783851\n",
      "34    bodystyl_t_SPORT UTILITY VEHICLE    209.940910\n",
      "76                 drl_t_Not Available    199.576826\n",
      "5                           shipweight    186.011123\n",
      "33                    bodystyl_t_SEDAN    151.618789\n",
      "64        drivetyp_t_Front Wheel Drive    127.437886\n",
      "42                           cylndrs_4    102.454241\n",
      "89  enghead_t_Single Overhead Camshaft     96.955361\n",
      "66         drivetyp_t_Rear Wheel Drive     95.258048\n",
      "13                   statename_FLORIDA     89.846792\n",
      "77                      drl_t_Optional     83.488382\n",
      "49      fuel_t_Electric and Gas Hybrid     66.141822\n",
      "58                   tiresz_f_t_17R225     65.265129\n",
      "17                     vehtype_t_Truck     59.353304\n",
      "80                   plntctry_t_CANADA     54.423459\n"
     ]
    }
   ],
   "source": [
    "#YOUR CODE HERE\n",
    "# deciding the best 20 features using selecting K best here  \n",
    "features = SelectKBest(score_func=chi2, k=20)\n",
    "fit = features.fit(x,y)\n",
    "dfscores = pd.DataFrame(fit.scores_)\n",
    "dfcolumns = pd.DataFrame(x.columns)\n",
    "featureScores = pd.concat([dfcolumns,dfscores],axis=1)\n",
    "featureScores.columns = ['Specs','Score']  \n",
    "print(featureScores.nlargest(20,'Score')) "
   ]
  },
  {
   "cell_type": "code",
   "execution_count": 81,
   "metadata": {},
   "outputs": [],
   "source": [
    "# Modifiying our train and test sets deciding on the features that we have chosen\n",
    "x_train = x_train.filter(items=[\n",
    "    'msrp', 'displci', 've_forms', 'vlvtotal', 'vlvclndr',\n",
    "    'drivetyp_t_Rear Wheel Drive w/4x4', 'bodystyl_t_SPORT UTILITY VEHICLE',\n",
    "    'drl_t_Not Available', 'shipweight', 'bodystyl_t_SEDAN',\n",
    "    'drivetyp_t_Front Wheel Drive', 'cylndrs_4',\n",
    "    'enghead_t_Single Overhead Camshaft', 'drivetyp_t_Rear Wheel Drive',\n",
    "    'statename_FLORIDA', 'drl_t_Optional', 'drl_t_Optional',\n",
    "    'fuel_t_Electric and Gas Hybrid', 'tiresz_f_t_17R225', 'vehtype_t_Truck', 'plntctry_t_CANADA'\n",
    "])"
   ]
  },
  {
   "cell_type": "code",
   "execution_count": 82,
   "metadata": {},
   "outputs": [],
   "source": [
    "x_test = x_test.filter(items=[\n",
    "    'msrp', 'displci', 've_forms', 'vlvtotal', 'vlvclndr',\n",
    "    'drivetyp_t_Rear Wheel Drive w/4x4', 'bodystyl_t_SPORT UTILITY VEHICLE',\n",
    "    'drl_t_Not Available', 'shipweight', 'bodystyl_t_SEDAN',\n",
    "    'drivetyp_t_Front Wheel Drive', 'cylndrs_4',\n",
    "    'enghead_t_Single Overhead Camshaft', 'drivetyp_t_Rear Wheel Drive',\n",
    "    'statename_FLORIDA', 'drl_t_Optional', 'drl_t_Optional',\n",
    "    'fuel_t_Electric and Gas Hybrid', 'tiresz_f_t_17R225', 'vehtype_t_Truck', 'plntctry_t_CANADA'\n",
    "])"
   ]
  },
  {
   "cell_type": "code",
   "execution_count": 83,
   "metadata": {},
   "outputs": [],
   "source": [
    "scaled_x_train = scaler.fit_transform(x_train)"
   ]
  },
  {
   "cell_type": "code",
   "execution_count": 84,
   "metadata": {},
   "outputs": [],
   "source": [
    "scaled_x_test =  scaler.transform(x_test)"
   ]
  },
  {
   "cell_type": "markdown",
   "metadata": {},
   "source": [
    "#  Part-6: Training and Performance Evaluation\n",
    "\n",
    "> You need to determine a score which is proper for the learning task and the distribution of target variable to benchmark the models. Note that even a model is successful for a target metric, it might performs poorly in terms of other performance scores. So, you should observe multiple metrics. <br>\n",
    "> **Hint:** Think about which type of error made in predictions is more harmful from a car insurance business perspective: False negative  or false positive predictions? <br>\n",
    "\n",
    "> According EDA done in the previous parts, you might need to adress any imbalanced dataset problem. (Not expected to use advanced methods or to do an extensive experimentation) <br>\n",
    "**Hint**: Inspect model parameters which are related to class weightening or loss weightening.\n",
    "\n",
    "> You have three Naive-Bayes-based model options for benchmarking with other types of models: ```GaussianNB```, ```CategoricalNB```, and ```ComplementNB```.\n",
    "Read the descriptions provided in Sklearn library or search them on the Internet, and choose one of them regarding which sounds more reasonable considering the dataset characteristics and the learning task.<br>\n",
    "**BONUS**: Experiment a simple prediction technique ensembling multiple Naive-Bayes models. (not required)"
   ]
  },
  {
   "cell_type": "code",
   "execution_count": 85,
   "metadata": {},
   "outputs": [],
   "source": [
    "#YOUR CODE HERE\n",
    "model = CategoricalNB()\n",
    "model_1 = GaussianNB()\n",
    "model_2 = ComplementNB()"
   ]
  },
  {
   "cell_type": "code",
   "execution_count": 86,
   "metadata": {
    "scrolled": false
   },
   "outputs": [
    {
     "name": "stderr",
     "output_type": "stream",
     "text": [
      "/home/merkol/.local/lib/python3.8/site-packages/sklearn/utils/validation.py:985: DataConversionWarning: A column-vector y was passed when a 1d array was expected. Please change the shape of y to (n_samples, ), for example using ravel().\n",
      "  y = column_or_1d(y, warn=True)\n",
      "/home/merkol/.local/lib/python3.8/site-packages/sklearn/utils/validation.py:985: DataConversionWarning: A column-vector y was passed when a 1d array was expected. Please change the shape of y to (n_samples, ), for example using ravel().\n",
      "  y = column_or_1d(y, warn=True)\n",
      "/home/merkol/.local/lib/python3.8/site-packages/sklearn/utils/validation.py:985: DataConversionWarning: A column-vector y was passed when a 1d array was expected. Please change the shape of y to (n_samples, ), for example using ravel().\n",
      "  y = column_or_1d(y, warn=True)\n"
     ]
    },
    {
     "data": {
      "text/plain": [
       "ComplementNB()"
      ]
     },
     "execution_count": 86,
     "metadata": {},
     "output_type": "execute_result"
    }
   ],
   "source": [
    "# fitting\n",
    "model.fit(scaled_x_train,y_train)\n",
    "model_1.fit(scaled_x_train,y_train)\n",
    "model_2.fit(scaled_x_train,y_train)"
   ]
  },
  {
   "cell_type": "code",
   "execution_count": 87,
   "metadata": {},
   "outputs": [],
   "source": [
    "# Predicting\n",
    "y_predict=model.predict(scaled_x_test)"
   ]
  },
  {
   "cell_type": "code",
   "execution_count": 88,
   "metadata": {},
   "outputs": [],
   "source": [
    "y_predict_1=model_1.predict(scaled_x_test)"
   ]
  },
  {
   "cell_type": "code",
   "execution_count": 89,
   "metadata": {},
   "outputs": [],
   "source": [
    "y_predict_2=model_2.predict(scaled_x_test)"
   ]
  },
  {
   "cell_type": "code",
   "execution_count": 90,
   "metadata": {},
   "outputs": [
    {
     "data": {
      "text/plain": [
       "array([[0.21108641, 0.70678337, 0.        , ..., 0.        , 0.        ,\n",
       "        0.        ],\n",
       "       [0.09264186, 0.45295405, 0.        , ..., 0.        , 1.        ,\n",
       "        0.        ],\n",
       "       [0.09220453, 0.28008753, 0.        , ..., 0.        , 0.        ,\n",
       "        0.        ],\n",
       "       ...,\n",
       "       [0.09909253, 0.31947484, 0.01587302, ..., 0.        , 0.        ,\n",
       "        0.        ],\n",
       "       [0.05300849, 0.0940919 , 0.        , ..., 0.        , 0.        ,\n",
       "        0.        ],\n",
       "       [0.08179963, 0.06564551, 0.01587302, ..., 0.        , 1.        ,\n",
       "        0.        ]])"
      ]
     },
     "execution_count": 90,
     "metadata": {},
     "output_type": "execute_result"
    }
   ],
   "source": [
    "scaled_x_test"
   ]
  },
  {
   "cell_type": "code",
   "execution_count": 91,
   "metadata": {},
   "outputs": [
    {
     "name": "stdout",
     "output_type": "stream",
     "text": [
      "Scores for CategoricalNB\n",
      "Recall score :  0.8415318407147138\n",
      "Precision score :  0.8415318407147138\n",
      "F1 score :  0.8415318407147138\n"
     ]
    }
   ],
   "source": [
    "# Evaluation\n",
    "print(\"Scores for CategoricalNB\")\n",
    "print(\"Recall score : \", recall_score(y_test, y_predict, average='micro'))\n",
    "print(\"Precision score : \",precision_score(y_test, y_predict , average='micro'))\n",
    "print(\"F1 score : \",f1_score(y_test, y_predict , average='micro'))"
   ]
  },
  {
   "cell_type": "code",
   "execution_count": 92,
   "metadata": {},
   "outputs": [
    {
     "name": "stdout",
     "output_type": "stream",
     "text": [
      "Scores for GaussianNB\n",
      "Recall score :  0.15656152966170944\n",
      "Precision score :  0.15656152966170944\n",
      "F1 score :  0.15656152966170944\n"
     ]
    }
   ],
   "source": [
    "# Evaluation\n",
    "print(\"Scores for GaussianNB\")\n",
    "print(\"Recall score : \", recall_score(y_test, y_predict_1, average='micro'))\n",
    "print(\"Precision score : \",precision_score(y_test, y_predict_1 , average='micro'))\n",
    "print(\"F1 score : \",f1_score(y_test, y_predict_1 , average='micro'))"
   ]
  },
  {
   "cell_type": "code",
   "execution_count": 93,
   "metadata": {},
   "outputs": [
    {
     "name": "stdout",
     "output_type": "stream",
     "text": [
      "Scores for ComplmentNB\n",
      "Recall score :  0.5622923135588603\n",
      "Precision score :  0.5622923135588603\n",
      "F1 score :  0.5622923135588603\n"
     ]
    }
   ],
   "source": [
    "# Evaluation\n",
    "print(\"Scores for ComplmentNB\")\n",
    "print(\"Recall score : \", recall_score(y_test, y_predict_2, average='micro'))\n",
    "print(\"Precision score : \",precision_score(y_test, y_predict_2 , average='micro'))\n",
    "print(\"F1 score : \",f1_score(y_test, y_predict_2 , average='micro'))"
   ]
  },
  {
   "cell_type": "markdown",
   "metadata": {},
   "source": [
    "> Plot training and testing performance of all models with a bar chart."
   ]
  },
  {
   "cell_type": "code",
   "execution_count": null,
   "metadata": {},
   "outputs": [],
   "source": [
    "#YOUR CODE HERE"
   ]
  },
  {
   "cell_type": "markdown",
   "metadata": {},
   "source": [
    "# Part-7: Interpretation\n",
    "7.1) Visualize rollover risk distributions of the models for training and testing datasets separately. Report the visual results.<br>\n",
    "**Hint**: Use ```predict_proba``` function of the fitted models."
   ]
  },
  {
   "cell_type": "code",
   "execution_count": null,
   "metadata": {},
   "outputs": [],
   "source": [
    "# YOUR CODE HERE\n"
   ]
  },
  {
   "cell_type": "markdown",
   "metadata": {},
   "source": [
    "7.2) Visualize year-by-year rollover risk distributions by the predictions of the best model you determined. Interpret the results in the report."
   ]
  },
  {
   "cell_type": "code",
   "execution_count": null,
   "metadata": {},
   "outputs": [],
   "source": []
  },
  {
   "cell_type": "markdown",
   "metadata": {},
   "source": [
    "7.3) Determine the features which useful to explain the car rollover phenomenon.<br>\n",
    "**Reminder**: Determine **at most 30** features. It is not saying that report 30 features. Maybe, after the top 20 features, others have much less importance. You should report a short-listed features.\n",
    "\n",
    "You can follow several strategies:\n",
    "- Using ```coef_``` attribute of linear models\n",
    "- Using ```feature_log_prob_``` attribute of probabilistic models\n",
    "- Using ```feature_importances_``` attribute of the decision-tree based models\n",
    "- Using ```permutation_importance``` function of sklearn (**REQUIRED** to explain how it works in the report)\n",
    "    \n",
    "You can either rely on the best model or all models to determine the good features.\n",
    "For example, if you have multiple successful models, you can determine the common important features for them. \n",
    "    \n",
    "After the creating a short-listed features, you can ensure whether they are enough to explain the phenemona via observing performances of re-trained model(s) using only these features."
   ]
  },
  {
   "cell_type": "code",
   "execution_count": null,
   "metadata": {},
   "outputs": [],
   "source": [
    "# YOUR CODE HERE"
   ]
  }
 ],
 "metadata": {
  "kernelspec": {
   "display_name": "Python 3",
   "language": "python",
   "name": "python3"
  },
  "language_info": {
   "codemirror_mode": {
    "name": "ipython",
    "version": 3
   },
   "file_extension": ".py",
   "mimetype": "text/x-python",
   "name": "python",
   "nbconvert_exporter": "python",
   "pygments_lexer": "ipython3",
   "version": "3.8.10"
  }
 },
 "nbformat": 4,
 "nbformat_minor": 5
}
